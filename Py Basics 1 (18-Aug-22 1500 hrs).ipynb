{
 "cells": [
  {
   "cell_type": "markdown",
   "id": "strategic-formula",
   "metadata": {},
   "source": [
    "1. Tokens\n",
    "2. Structure of Programe\n",
    "3. Variables and Assignments\n",
    "4. Input and outputs\n",
    "5. Data types\n",
    "6. Mutable and Immutable \n",
    "7. Expressions\n",
    "8. Conditional Statements\n",
    "9. Control Structres"
   ]
  },
  {
   "cell_type": "markdown",
   "id": "north-uncle",
   "metadata": {},
   "source": [
    "### 1. Tokens\n",
    "- Keywords\n",
    "- Identifiers (Names)\n",
    "- Literals\n",
    "- Operators\n",
    "- Punctuators"
   ]
  },
  {
   "cell_type": "code",
   "execution_count": 2,
   "id": "alike-welsh",
   "metadata": {
    "scrolled": true
   },
   "outputs": [
    {
     "name": "stdout",
     "output_type": "stream",
     "text": [
      "2\n",
      "4\n",
      "6\n",
      "8\n"
     ]
    },
    {
     "data": {
      "text/plain": [
       "'Keywords --> for,in,if\\nIdentifiers (Names) --> even\\nLiterals --> line1: 1 and 10, line 2: 2 and 0\\nOperators --> %, == \\nPunctuators --> brackets i.e. () here in line1 and in line3'"
      ]
     },
     "execution_count": 2,
     "metadata": {},
     "output_type": "execute_result"
    }
   ],
   "source": [
    "for even in range(1,10):\n",
    "    if even%2 == 0:\n",
    "        print(even)\n",
    "'''Keywords --> for,in,if\n",
    "Identifiers (Names) --> even\n",
    "Literals --> line1: 1 and 10, line 2: 2 and 0\n",
    "Operators --> %, == \n",
    "Punctuators --> brackets i.e. () here in line1 and in line3''' "
   ]
  },
  {
   "cell_type": "markdown",
   "id": "commercial-retention",
   "metadata": {},
   "source": [
    "### 2. Structure of Program"
   ]
  },
  {
   "cell_type": "code",
   "execution_count": 3,
   "id": "another-savannah",
   "metadata": {},
   "outputs": [
    {
     "name": "stdout",
     "output_type": "stream",
     "text": [
      "Hello Coders\n",
      " a = 2 \n",
      " b = 5 \n",
      " a+b = 7\n",
      "a is big\n"
     ]
    }
   ],
   "source": [
    "# From this program let's understand basic components --> COMMENT using # character at the begining\n",
    "# Definition of helloCoder() is as follows            --> COMMENT using # character at the begining\n",
    "def helloCoder(): #                                   --> FUNCTION definition using def keyword and collon(:) to write BLOCK of statments [INLINE COMMENT]\n",
    "    # BLOCK of helloCoder() function\n",
    "    print('Hello Coders')\n",
    "\n",
    "helloCoder() #                                        --> CALLING the function [INLINE COMMENT]\n",
    "\n",
    "# Main programe\n",
    "a = 2 #                                               --> STATEMENT i.e. a = 2 [INLINE COMMENT]\n",
    "b = a + 3 #                                           --> STATEMENT i.e. b = a + 3 [INLINE COMMENT]\n",
    "print(' a =',a, #                                     --> STATEMENT i.e. print() statement [INLINE COMMENT]\n",
    "      '\\n b =',b,\n",
    "      '\\n a+b =',a+b)\n",
    "if a > b:\n",
    "    # BLOCK of if statement\n",
    "    print('b is big') # Before print we put 3 space or 1 tab i.e. known as INDENTATION [INLINE COMMENT]\n",
    "else:\n",
    "    # BLOCK of else statement\n",
    "    print('a is big')"
   ]
  },
  {
   "cell_type": "markdown",
   "id": "accepting-hearing",
   "metadata": {},
   "source": [
    "### 3. Variables and Assignments"
   ]
  },
  {
   "cell_type": "code",
   "execution_count": 4,
   "id": "essential-consolidation",
   "metadata": {},
   "outputs": [
    {
     "name": "stdout",
     "output_type": "stream",
     "text": [
      "5 <class 'int'>\n",
      "Hello <class 'str'>\n",
      "5 5 5\n",
      "x = 2 y = 3\n",
      "x = 3 y = 2\n"
     ]
    }
   ],
   "source": [
    "Name = 'Rajiv'\n",
    "Age = 33\n",
    "\n",
    "# Dynamic Typing\n",
    "a = 5\n",
    "print(a, type(a))\n",
    "a = 'Hello'\n",
    "print(a, type(a))\n",
    "'''Dynamic typing is different from static typing.In Static typing, \n",
    "a data type is attached with the variable when it is defined first and it is fixed. \n",
    "But this restriction of fixing of data type is not valid for dynamic typing\n",
    "i.e. the data type of variable be changed later on when we use same variable again.'''\n",
    "\n",
    "# Multiple assignaments\n",
    "a=b=c = 5\n",
    "print(a,b,c)\n",
    "x,y = 2,3\n",
    "print('x =',x,'y =',y)\n",
    "# Swaping of x and y values\n",
    "x,y = y,x\n",
    "print('x =',x,'y =',y)"
   ]
  },
  {
   "cell_type": "code",
   "execution_count": 5,
   "id": "olive-spare",
   "metadata": {},
   "outputs": [
    {
     "name": "stdout",
     "output_type": "stream",
     "text": [
      "x = 3 y = 2\n"
     ]
    }
   ],
   "source": [
    "print('x =',x,'y =',y)"
   ]
  },
  {
   "cell_type": "markdown",
   "id": "requested-hotel",
   "metadata": {},
   "source": [
    "### 4. Input and outputs\n",
    "\n",
    "#### Input() Statement"
   ]
  },
  {
   "cell_type": "code",
   "execution_count": 6,
   "id": "english-celtic",
   "metadata": {},
   "outputs": [
    {
     "name": "stdout",
     "output_type": "stream",
     "text": [
      "Enter the value of x:6.4\n",
      "6.4 <class 'str'>\n"
     ]
    }
   ],
   "source": [
    "# variable_to_hold_the_value = input(<prompt to be displayed>)\n",
    "\n",
    "x = input('Enter the value of x:')\n",
    "print(x, type(x))"
   ]
  },
  {
   "cell_type": "code",
   "execution_count": 15,
   "id": "attractive-silly",
   "metadata": {},
   "outputs": [
    {
     "name": "stdout",
     "output_type": "stream",
     "text": [
      "Enter the value of x:2\n",
      "2 <class 'int'>\n",
      "Enter the value of y:3.5\n",
      "3.5 <class 'float'>\n"
     ]
    }
   ],
   "source": [
    "x = int(input('Enter the value of x:'))\n",
    "print(x, type(x))\n",
    "y = float(input('Enter the value of y:'))\n",
    "print(y, type(y))"
   ]
  },
  {
   "cell_type": "markdown",
   "id": "homeless-analysis",
   "metadata": {},
   "source": [
    "#### Output() Statement"
   ]
  },
  {
   "cell_type": "code",
   "execution_count": 18,
   "id": "unavailable-colon",
   "metadata": {},
   "outputs": [
    {
     "name": "stdout",
     "output_type": "stream",
     "text": [
      "Hello\n",
      "3.5\n",
      "12.56636\n",
      "12.56636\n",
      "I'm 33 years old.\n",
      "My Name is Rajiv.\n",
      "My_Name_is_Rajiv.\n"
     ]
    }
   ],
   "source": [
    "print('Hello')\n",
    "print(3.5)\n",
    "r = 2\n",
    "print(3.14159*(r*r))\n",
    "print(3.14159*(r**2))\n",
    "print('I\\'m',33,'years old.')\n",
    "print('My','Name','is','Rajiv.')\n",
    "print('My','Name','is','Rajiv.',sep='_')"
   ]
  },
  {
   "cell_type": "markdown",
   "id": "personal-memphis",
   "metadata": {},
   "source": [
    "### 5. Data types\n",
    "\n",
    "    1. Numbers\n",
    "    - Integer\n",
    "        - Integers (Signed)\n",
    "        - Booleans\n",
    "    - Floating-Point (15 digit precision)\n",
    "    - Complex Numbers\n",
    "\n",
    "    2. String\n",
    "    3. Lists\n",
    "    4. Tuples\n",
    "    5. Set\n",
    "    6. Dictionaries"
   ]
  },
  {
   "cell_type": "markdown",
   "id": "respected-treasurer",
   "metadata": {},
   "source": [
    "#### 5.2 Strings"
   ]
  },
  {
   "cell_type": "code",
   "execution_count": 22,
   "id": "steady-grammar",
   "metadata": {},
   "outputs": [
    {
     "name": "stdout",
     "output_type": "stream",
     "text": [
      "Hello\n",
      "World\n"
     ]
    },
    {
     "data": {
      "text/plain": [
       "'Above both statements are same'"
      ]
     },
     "execution_count": 22,
     "metadata": {},
     "output_type": "execute_result"
    }
   ],
   "source": [
    "x = 'Hello'\n",
    "print((x))\n",
    "y = \"World\"\n",
    "print(y)\n",
    "'''Above both statements are same'''"
   ]
  },
  {
   "cell_type": "code",
   "execution_count": 23,
   "id": "cubic-explosion",
   "metadata": {},
   "outputs": [
    {
     "name": "stdout",
     "output_type": "stream",
     "text": [
      "Hello World\n"
     ]
    }
   ],
   "source": [
    "#Combining string with string using plus(+) operator\n",
    "z = x + ' ' + y\n",
    "print(z)"
   ]
  },
  {
   "cell_type": "code",
   "execution_count": 27,
   "id": "convinced-pontiac",
   "metadata": {},
   "outputs": [
    {
     "name": "stdout",
     "output_type": "stream",
     "text": [
      "Hello 5 <class 'int'>\n"
     ]
    }
   ],
   "source": [
    "#Combining string with number using plus(+) operator\n",
    "a = 5\n",
    "five = x + ' ' + str(a)\n",
    "print(five, type(a))"
   ]
  },
  {
   "cell_type": "code",
   "execution_count": null,
   "id": "applicable-michigan",
   "metadata": {},
   "outputs": [],
   "source": [
    "# Special cracters\n",
    "## Placing numbers within strings\n",
    "five = x + ' ' + '%d'%a\n",
    "print(five)\n",
    "\n",
    "# OR\n",
    "print(x + ' ' + '%d'%a)"
   ]
  },
  {
   "cell_type": "markdown",
   "id": "flush-trunk",
   "metadata": {},
   "source": [
    "#### 5.3 Lists [ ] --> Mutable"
   ]
  },
  {
   "cell_type": "code",
   "execution_count": 28,
   "id": "automated-flooring",
   "metadata": {},
   "outputs": [
    {
     "name": "stdout",
     "output_type": "stream",
     "text": [
      "['Hello', 3, 2.5]\n",
      "['a', 7, 5.2]\n"
     ]
    }
   ],
   "source": [
    "# Declaration of list\n",
    "x = []\n",
    "# Initialisation \n",
    "x = ['Hello', 3, 2.5]\n",
    "print(x)\n",
    "\n",
    "# Declare as well as Initialisation \n",
    "y = ['a', 7, 5.2]\n",
    "print(y)"
   ]
  },
  {
   "cell_type": "markdown",
   "id": "identified-chinese",
   "metadata": {},
   "source": [
    "#### 5.4 Tuples ( ) --> Immutable"
   ]
  },
  {
   "cell_type": "code",
   "execution_count": 31,
   "id": "circular-watson",
   "metadata": {},
   "outputs": [
    {
     "data": {
      "text/plain": [
       "('Hello', 3, 3.6, 6)"
      ]
     },
     "execution_count": 31,
     "metadata": {},
     "output_type": "execute_result"
    }
   ],
   "source": [
    "x = ()\n",
    "x = ('Hello', 3, 3.6)\n",
    "x = ('Hello', 3, 3.6,6)\n",
    "x"
   ]
  },
  {
   "cell_type": "markdown",
   "id": "stock-afternoon",
   "metadata": {},
   "source": [
    "#### 5.5 Set { } --> Mutable"
   ]
  },
  {
   "cell_type": "code",
   "execution_count": 32,
   "id": "suspected-costs",
   "metadata": {},
   "outputs": [
    {
     "data": {
      "text/plain": [
       "{3.9, 4, 'Hello'}"
      ]
     },
     "execution_count": 32,
     "metadata": {},
     "output_type": "execute_result"
    }
   ],
   "source": [
    "set1 = {'Hello',4,3.9}\n",
    "set1"
   ]
  },
  {
   "cell_type": "markdown",
   "id": "critical-forwarding",
   "metadata": {},
   "source": [
    "#### 5.6 Dictionaries { keys : values } --> Mutable"
   ]
  },
  {
   "cell_type": "code",
   "execution_count": 33,
   "id": "freelance-premium",
   "metadata": {},
   "outputs": [
    {
     "data": {
      "text/plain": [
       "{'name': 'Rajiv', 'age': 33}"
      ]
     },
     "execution_count": 33,
     "metadata": {},
     "output_type": "execute_result"
    }
   ],
   "source": [
    "abc = {}\n",
    "abc['name'] = 'Rajiv'\n",
    "abc['age'] = 33\n",
    "abc"
   ]
  },
  {
   "cell_type": "code",
   "execution_count": 35,
   "id": "forced-marks",
   "metadata": {},
   "outputs": [
    {
     "name": "stdout",
     "output_type": "stream",
     "text": [
      "Rajiv\n",
      "33\n"
     ]
    }
   ],
   "source": [
    "# Retrieving the values in dictionary\n",
    "print(abc['name'])\n",
    "print(abc['age'])"
   ]
  },
  {
   "cell_type": "code",
   "execution_count": 36,
   "id": "stunning-rings",
   "metadata": {},
   "outputs": [
    {
     "data": {
      "text/plain": [
       "dict_keys(['name', 'age'])"
      ]
     },
     "execution_count": 36,
     "metadata": {},
     "output_type": "execute_result"
    }
   ],
   "source": [
    "abc.keys()"
   ]
  },
  {
   "cell_type": "code",
   "execution_count": 37,
   "id": "aggressive-shaft",
   "metadata": {},
   "outputs": [
    {
     "data": {
      "text/plain": [
       "dict_items([('name', 'Rajiv'), ('age', 33)])"
      ]
     },
     "execution_count": 37,
     "metadata": {},
     "output_type": "execute_result"
    }
   ],
   "source": [
    "abc.items()"
   ]
  },
  {
   "cell_type": "code",
   "execution_count": 38,
   "id": "middle-fossil",
   "metadata": {},
   "outputs": [
    {
     "data": {
      "text/plain": [
       "dict_values(['Rajiv', 33])"
      ]
     },
     "execution_count": 38,
     "metadata": {},
     "output_type": "execute_result"
    }
   ],
   "source": [
    "abc.values()"
   ]
  },
  {
   "cell_type": "markdown",
   "id": "hispanic-today",
   "metadata": {},
   "source": [
    "### 6. Mutable and Immutable\n",
    "\n",
    "\n",
    "#### Immutables Types\n",
    "- The immutable  types are those that can never change their values in place. \n",
    "    **Ex: integer, floating, boolean, strings, tuples**.\n",
    "- It means, the variable names are stored as references to a calues-object.\n",
    "    Each time you change the value, the variable's reference memory address changes."
   ]
  },
  {
   "cell_type": "code",
   "execution_count": null,
   "id": "occupied-upper",
   "metadata": {},
   "outputs": [],
   "source": [
    "p = 5\n",
    "q = p\n",
    "r = 5\n",
    "print(id(p))\n",
    "print(id(q))\n",
    "print(id(r))"
   ]
  },
  {
   "cell_type": "code",
   "execution_count": null,
   "id": "modular-origin",
   "metadata": {},
   "outputs": [],
   "source": [
    "p = 10\n",
    "r = 7\n",
    "q = r\n",
    "print(id(p))\n",
    "print(id(q))\n",
    "print(id(r))"
   ]
  },
  {
   "cell_type": "markdown",
   "id": "expressed-sucking",
   "metadata": {},
   "source": [
    "#### Mutables Types\n",
    "- These types are those that can never change their values in place. **ex: lists, dictionaries ans sets**.\n",
    "- It means that in the same memory address, new value can be stored as and when you want."
   ]
  },
  {
   "cell_type": "code",
   "execution_count": 1,
   "id": "arctic-comfort",
   "metadata": {},
   "outputs": [
    {
     "name": "stdout",
     "output_type": "stream",
     "text": [
      "[2, 4, 6]\n"
     ]
    },
    {
     "data": {
      "text/plain": [
       "[2, 8, 6]"
      ]
     },
     "execution_count": 1,
     "metadata": {},
     "output_type": "execute_result"
    }
   ],
   "source": [
    "a = [2,4,6]\n",
    "print(a)\n",
    "# To change a member of a list, you just do:\n",
    "a[1] = 8\n",
    "a"
   ]
  },
  {
   "cell_type": "markdown",
   "id": "assigned-china",
   "metadata": {},
   "source": [
    "### 7. Expressions"
   ]
  },
  {
   "cell_type": "code",
   "execution_count": 40,
   "id": "southwest-hampshire",
   "metadata": {},
   "outputs": [
    {
     "name": "stdout",
     "output_type": "stream",
     "text": [
      "2.3333333333333335\n",
      "2\n",
      "0\n"
     ]
    }
   ],
   "source": [
    "# Arithematic expressions\n",
    "a,b = 3,7\n",
    "c = b/a\n",
    "print(c)\n",
    "\n",
    "c = b//a\n",
    "print(c)\n",
    "\n",
    "a,b = 3,6\n",
    "c = b%a\n",
    "print(c)"
   ]
  },
  {
   "cell_type": "code",
   "execution_count": 41,
   "id": "noticed-virgin",
   "metadata": {},
   "outputs": [
    {
     "name": "stdout",
     "output_type": "stream",
     "text": [
      "False\n",
      "True\n",
      "True\n",
      "False\n",
      "True\n"
     ]
    }
   ],
   "source": [
    "# Relational expressions\n",
    "a,b,c = 3,6,8\n",
    "print(a>b)\n",
    "print(a<b)\n",
    "print(a<=b)\n",
    "print(a<b>c)\n",
    "print(a<b<c)"
   ]
  },
  {
   "cell_type": "code",
   "execution_count": 42,
   "id": "described-badge",
   "metadata": {},
   "outputs": [
    {
     "name": "stdout",
     "output_type": "stream",
     "text": [
      "False\n",
      "True\n"
     ]
    }
   ],
   "source": [
    "# Logical expressions\n",
    "print(a>b and c>a)\n",
    "print(a>b or c>a)"
   ]
  },
  {
   "cell_type": "markdown",
   "id": "incorporate-advocate",
   "metadata": {},
   "source": [
    "### 8. Conditional Statements"
   ]
  },
  {
   "cell_type": "code",
   "execution_count": null,
   "id": "nutritional-harmony",
   "metadata": {},
   "outputs": [],
   "source": [
    "a,b = 3,6\n",
    "if a>b:\n",
    "    print('a is big')\n",
    "else: \n",
    "    print('b is big')"
   ]
  },
  {
   "cell_type": "code",
   "execution_count": 43,
   "id": "fuzzy-heritage",
   "metadata": {},
   "outputs": [
    {
     "name": "stdout",
     "output_type": "stream",
     "text": [
      "Enter marks between 0 to 100:99\n",
      "Honours\n"
     ]
    }
   ],
   "source": [
    "marks = float(input('Enter marks between 0 to 100:'))\n",
    "if marks >= 90:\n",
    "    print('Honours')\n",
    "elif marks >= 60 and marks < 90: \n",
    "    print('1st division')\n",
    "elif marks >= 40 and marks < 60: \n",
    "    print('2nd division')\n",
    "else: \n",
    "    print('Fail')"
   ]
  },
  {
   "cell_type": "markdown",
   "id": "instructional-mouse",
   "metadata": {},
   "source": [
    "### 9. Control Structres"
   ]
  },
  {
   "cell_type": "code",
   "execution_count": 44,
   "id": "continuous-cooperation",
   "metadata": {},
   "outputs": [
    {
     "name": "stdout",
     "output_type": "stream",
     "text": [
      "2\n",
      "3\n",
      "4\n",
      "5\n",
      "6\n",
      "7\n"
     ]
    }
   ],
   "source": [
    "for val in [2,3,4,5,6,7]:\n",
    "    print(val)"
   ]
  },
  {
   "cell_type": "code",
   "execution_count": 45,
   "id": "breeding-competition",
   "metadata": {},
   "outputs": [
    {
     "name": "stdout",
     "output_type": "stream",
     "text": [
      "0\n",
      "1\n",
      "2\n",
      "3\n"
     ]
    }
   ],
   "source": [
    "for i in range(4):\n",
    "    print(i)"
   ]
  },
  {
   "cell_type": "code",
   "execution_count": 46,
   "id": "tamil-service",
   "metadata": {},
   "outputs": [
    {
     "name": "stdout",
     "output_type": "stream",
     "text": [
      "0\n",
      "2\n",
      "4\n",
      "6\n",
      "8\n"
     ]
    }
   ],
   "source": [
    "for i in range(0,10,2):\n",
    "    print(i)"
   ]
  },
  {
   "cell_type": "code",
   "execution_count": 47,
   "id": "directed-butter",
   "metadata": {},
   "outputs": [
    {
     "name": "stdout",
     "output_type": "stream",
     "text": [
      "How many numbers you want to print: 5\n",
      "5\n",
      "4\n",
      "3\n",
      "2\n",
      "1\n"
     ]
    }
   ],
   "source": [
    "# while loop\n",
    "n = int(input('How many numbers you want to print: '))\n",
    "while(n>0):\n",
    "    print(n)\n",
    "    n-=1"
   ]
  },
  {
   "cell_type": "code",
   "execution_count": 48,
   "id": "incomplete-affairs",
   "metadata": {},
   "outputs": [
    {
     "name": "stdout",
     "output_type": "stream",
     "text": [
      "How many numbers you want to print: 5\n",
      "0\n",
      "1\n",
      "2\n",
      "3\n",
      "4\n"
     ]
    }
   ],
   "source": [
    "# for loop\n",
    "n = int(input('How many numbers you want to print: '))\n",
    "for i in range(n):\n",
    "    print(i)"
   ]
  },
  {
   "cell_type": "markdown",
   "id": "rental-assistant",
   "metadata": {},
   "source": [
    "### Extra: Some useful mathematical oprations"
   ]
  },
  {
   "cell_type": "code",
   "execution_count": 49,
   "id": "developed-profile",
   "metadata": {},
   "outputs": [
    {
     "data": {
      "text/plain": [
       "81"
      ]
     },
     "execution_count": 49,
     "metadata": {},
     "output_type": "execute_result"
    }
   ],
   "source": [
    "# square\n",
    "9**2"
   ]
  },
  {
   "cell_type": "code",
   "execution_count": 50,
   "id": "relative-insulation",
   "metadata": {},
   "outputs": [
    {
     "data": {
      "text/plain": [
       "125"
      ]
     },
     "execution_count": 50,
     "metadata": {},
     "output_type": "execute_result"
    }
   ],
   "source": [
    "# cube\n",
    "5**3"
   ]
  },
  {
   "cell_type": "code",
   "execution_count": 51,
   "id": "affecting-wallace",
   "metadata": {},
   "outputs": [
    {
     "data": {
      "text/plain": [
       "1.7320508075688772"
      ]
     },
     "execution_count": 51,
     "metadata": {},
     "output_type": "execute_result"
    }
   ],
   "source": [
    " # square root\n",
    "3**(1/2)"
   ]
  },
  {
   "cell_type": "code",
   "execution_count": 52,
   "id": "clean-strain",
   "metadata": {},
   "outputs": [
    {
     "data": {
      "text/plain": [
       "3.0"
      ]
     },
     "execution_count": 52,
     "metadata": {},
     "output_type": "execute_result"
    }
   ],
   "source": [
    "# cube root\n",
    "27**(1/3)"
   ]
  }
 ],
 "metadata": {
  "kernelspec": {
   "display_name": "Python 3",
   "language": "python",
   "name": "python3"
  },
  "language_info": {
   "codemirror_mode": {
    "name": "ipython",
    "version": 3
   },
   "file_extension": ".py",
   "mimetype": "text/x-python",
   "name": "python",
   "nbconvert_exporter": "python",
   "pygments_lexer": "ipython3",
   "version": "3.9.1"
  }
 },
 "nbformat": 4,
 "nbformat_minor": 5
}

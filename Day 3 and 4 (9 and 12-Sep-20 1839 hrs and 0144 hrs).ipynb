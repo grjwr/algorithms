{
 "cells": [
  {
   "cell_type": "markdown",
   "metadata": {},
   "source": [
    "# List of data structures\n",
    "\n",
    "1\tData types\n",
    "\n",
    "1.1\tPrimitive types\n",
    "\n",
    "1.2\tComposite types or non-primitive type\n",
    "\n",
    "1.3\tAbstract data types\n",
    "\n",
    "2\tLinear data structures\n",
    "\n",
    "2.1\tArrays\n",
    "\n",
    "2.2\tLists\n",
    "\n",
    "3\tTrees\n",
    "\n",
    "3.1\tBinary trees\n",
    "\n",
    "3.2\tB-trees\n",
    "\n",
    "3.3\tHeaps\n",
    "\n",
    "3.4\tTrees\n",
    "\n",
    "3.5\tMultiway trees\n",
    "\n",
    "3.6\tSpace-partitioning trees\n",
    "\n",
    "3.7\tApplication-specific trees\n",
    "\n",
    "4\tHash-based structures\n",
    "\n",
    "5\tGraphs\n",
    "\n",
    "6\tOther"
   ]
  },
  {
   "cell_type": "markdown",
   "metadata": {},
   "source": [
    "## Required programming concept to implement Tree\n",
    "\n",
    "### A) Recursion \n",
    "\n",
    "Recursion is a process in which a function calls itself as a subroutine."
   ]
  },
  {
   "cell_type": "code",
   "execution_count": 2,
   "metadata": {},
   "outputs": [
    {
     "name": "stdout",
     "output_type": "stream",
     "text": [
      "\n",
      "Iterative method\n",
      "1\n",
      "2\n",
      "3\n",
      "4\n",
      "5\n",
      "6\n",
      "7\n",
      "8\n",
      "9\n",
      "10\n"
     ]
    }
   ],
   "source": [
    "## print 10 numnbers\n",
    "print('\\nIterative method')\n",
    "for i in range(1,11):\n",
    "    print(i)"
   ]
  },
  {
   "cell_type": "code",
   "execution_count": 11,
   "metadata": {},
   "outputs": [
    {
     "name": "stdout",
     "output_type": "stream",
     "text": [
      "\n",
      "Reccursion method\n",
      "1\n",
      "2\n",
      "3\n",
      "4\n",
      "5\n",
      "6\n",
      "7\n",
      "8\n",
      "9\n",
      "10\n"
     ]
    }
   ],
   "source": [
    "print('\\nReccursion method')\n",
    "def Print(x):\n",
    "    print(x)\n",
    "    if x<10:\n",
    "        Print(x+1)\n",
    "\n",
    "Print(1)\n",
    "#print(pf(1))"
   ]
  },
  {
   "cell_type": "markdown",
   "metadata": {},
   "source": [
    "### Day 4"
   ]
  },
  {
   "cell_type": "markdown",
   "metadata": {},
   "source": [
    "### B) Linked List \n",
    "To learn linked list these concepts must be clear: Pointer, Function, DMA, Structure {Basics of C}\n",
    "\n",
    "##### Pointer\n",
    "There is no concept of Pointer in Python language. The objects are passed to function by reference. The mechanism used in Python is exactly like passing pointers by the value in C. We have Python variables which is not a pointer.\n",
    "\n",
    "##### DMA\n",
    "Dynamic memory allocation is mostly a non-issue in Python. Everything is an object, and the reference counting system and garbage collector automatically return memory to the system when it is no longer being used.\n",
    "\n",
    "##### Structure\n",
    "As pyhton supports OOP concepts so in place of strucutre we have class."
   ]
  },
  {
   "cell_type": "code",
   "execution_count": 12,
   "metadata": {},
   "outputs": [
    {
     "name": "stdout",
     "output_type": "stream",
     "text": [
      "hello\n"
     ]
    }
   ],
   "source": [
    "# Functions\n",
    "\n",
    "def printHello():\n",
    "    print('hello')\n",
    "    \n",
    "printHello()"
   ]
  },
  {
   "cell_type": "code",
   "execution_count": 25,
   "metadata": {},
   "outputs": [
    {
     "name": "stdout",
     "output_type": "stream",
     "text": [
      "9\n"
     ]
    }
   ],
   "source": [
    "# Class\n",
    "\n",
    "class Calculator:\n",
    "    def __init__ (self,x,y):\n",
    "        self.n1 = x\n",
    "        self.n2 = y\n",
    "        \n",
    "    def add(self):\n",
    "        print(self.n1+self.n2)\n",
    "\n",
    "\n",
    "cal = Calculator(4,5)\n",
    "\n",
    "cal.add()"
   ]
  },
  {
   "cell_type": "code",
   "execution_count": 28,
   "metadata": {},
   "outputs": [
    {
     "name": "stdout",
     "output_type": "stream",
     "text": [
      "Rodger details:\n",
      "Rodger is a dog\n",
      "Breed:  Pug\n",
      "Color:  brown\n",
      "\n",
      "Buzo details:\n",
      "Buzo is a dog\n",
      "Breed:  Bulldog\n",
      "Color:  black\n",
      "\n",
      "Accessing class variable using class name\n",
      "dog\n"
     ]
    }
   ],
   "source": [
    "# Python program to show that the variables with a value \n",
    "# assigned in the class declaration, are class variables and \n",
    "# variables inside methods and constructors are instance \n",
    "# variables. \n",
    "\n",
    "# Class for Dog \n",
    "class Dog: \n",
    "\n",
    "    # Class Variable \n",
    "    animal = 'dog'\n",
    "\n",
    "# The init method or constructor \n",
    "    def __init__(self, breed, color): \n",
    "\n",
    "    # Instance Variable\n",
    "        self.breed = breed \n",
    "        self.color = color\n",
    "\n",
    "# Objects of Dog class \n",
    "Rodger = Dog(\"Pug\", \"brown\") \n",
    "Buzo = Dog(\"Bulldog\", \"black\") \n",
    "\n",
    "print('Rodger details:') \n",
    "print('Rodger is a', Rodger.animal) \n",
    "print('Breed: ', Rodger.breed) \n",
    "print('Color: ', Rodger.color) \n",
    "\n",
    "print('\\nBuzo details:') \n",
    "print('Buzo is a', Buzo.animal) \n",
    "print('Breed: ', Buzo.breed) \n",
    "print('Color: ', Buzo.color) \n",
    "\n",
    "# Class variables can be accessed using class \n",
    "# name also \n",
    "print(\"\\nAccessing class variable using class name\") \n",
    "print(Dog.animal)\n",
    "\n",
    "# [Ref: https://www.geeksforgeeks.org/python-classes-and-objects/]\n"
   ]
  },
  {
   "cell_type": "markdown",
   "metadata": {},
   "source": [
    "#### So, we will implement the concepts of linked list (LL) using Classes \n",
    "\n",
    "###### (1) Singly linked list\n"
   ]
  },
  {
   "cell_type": "code",
   "execution_count": 29,
   "metadata": {},
   "outputs": [],
   "source": [
    "# Define a node for SLL\n",
    "class Node:\n",
    "    def __init__(self,x):\n",
    "        self.next = None\n",
    "        self.val = x\n",
    "        "
   ]
  },
  {
   "cell_type": "markdown",
   "metadata": {},
   "source": [
    "Create SLL"
   ]
  },
  {
   "cell_type": "code",
   "execution_count": 30,
   "metadata": {},
   "outputs": [],
   "source": [
    "# inserting first node\n",
    "\n",
    "start = Node(10)"
   ]
  },
  {
   "cell_type": "code",
   "execution_count": 31,
   "metadata": {},
   "outputs": [],
   "source": [
    "# insert 20, 30 ,40, 50 into the LL\n",
    "\n",
    "start.next = Node(20)\n",
    "start.next.next = Node(30)\n",
    "start.next.next.next = Node(40)\n",
    "start.next.next.next.next = Node(50)"
   ]
  },
  {
   "cell_type": "markdown",
   "metadata": {},
   "source": [
    "creating the SLL using function "
   ]
  },
  {
   "cell_type": "code",
   "execution_count": null,
   "metadata": {},
   "outputs": [],
   "source": [
    "def creatSLL():\n",
    "    n = int(input('How many nodes you want to insert into SLL: '))\n",
    "    for i in range(n):\n",
    "        val = input(\"Data: \")\n",
    "        nn = Node(val)\n",
    "        nn.next = None\n",
    "        if(i==0):\n",
    "            start = nn\n",
    "        else:\n",
    "            on.next = nn \n",
    "        on = nn\n",
    "    print('Linked list created')\n",
    "    return start\n",
    "start = creatSLL()"
   ]
  },
  {
   "attachments": {
    "LL.PNG": {
     "image/png": "[encoded data removed]"
    }
   },
   "cell_type": "markdown",
   "metadata": {},
   "source": [
    "###### Usefull loops used in LL\n",
    "\n",
    "![LL.PNG](attachment:LL.PNG)\n",
    "    \n"
   ]
  },
  {
   "cell_type": "code",
   "execution_count": 38,
   "metadata": {},
   "outputs": [
    {
     "name": "stdout",
     "output_type": "stream",
     "text": [
      "10\n",
      "20\n",
      "30\n",
      "40\n",
      "50\n"
     ]
    }
   ],
   "source": [
    "# Print the above SLL\n",
    "t = start\n",
    "while(t != None ):\n",
    "    print(t.val)\n",
    "    t = t.next"
   ]
  },
  {
   "cell_type": "code",
   "execution_count": 44,
   "metadata": {},
   "outputs": [],
   "source": [
    "# Insert the elment in SLL\n",
    "\n",
    "\n",
    "def insertSLL(start):\n",
    "    val = input('Enter data for node: ')\n",
    "    nn = Node(val)\n",
    "    choice = int(input('Select where to insert: 1-First, 2-Last, 3-Specific position: '))\n",
    "    if(choice == 1):\n",
    "        nn.next = start\n",
    "        start = nn\n",
    "    if(choice == 2 ):\n",
    "        t = start\n",
    "        while(t.next != None):\n",
    "            t = t.next\n",
    "        t.next = nn\n",
    "    if(choice == 3):\n",
    "        pos = int(input('Enter the specific position to insert new node: '))\n",
    "        t = start\n",
    "        i=1\n",
    "        while(i<pos and t.next != None):\n",
    "            i+=1\n",
    "            p = t\n",
    "            t = t.next\n",
    "        nn.next = t\n",
    "        p.next = nn\n",
    "    print('New node inserted.\\n\\nNew list:')\n",
    "    \n",
    "    # Print SLL after insertion \n",
    "    t = start\n",
    "    while(t != None ):\n",
    "        print(t.val)\n",
    "        t = t.next   \n",
    "    return start"
   ]
  },
  {
   "cell_type": "code",
   "execution_count": 47,
   "metadata": {},
   "outputs": [
    {
     "name": "stdout",
     "output_type": "stream",
     "text": [
      "How many nodes you want to insert into SLL: 5\n",
      "Data: 10\n",
      "Data: 20\n",
      "Data: 30\n",
      "Data: 40\n",
      "Data: 50\n",
      "Linked list created\n"
     ]
    }
   ],
   "source": [
    "start = creatSLL()\n",
    "#start = insertSLL(start) "
   ]
  },
  {
   "cell_type": "code",
   "execution_count": 48,
   "metadata": {},
   "outputs": [
    {
     "name": "stdout",
     "output_type": "stream",
     "text": [
      "Enter data for node: 33\n",
      "Select where to insert: 1-First, 2-Last, 3-Specific position: 1\n",
      "New node inserted.\n",
      "\n",
      "New list:\n",
      "33\n",
      "10\n",
      "20\n",
      "30\n",
      "40\n",
      "50\n"
     ]
    }
   ],
   "source": [
    "start = insertSLL(start) "
   ]
  },
  {
   "cell_type": "code",
   "execution_count": 49,
   "metadata": {},
   "outputs": [
    {
     "name": "stdout",
     "output_type": "stream",
     "text": [
      "Enter data for node: 44\n",
      "Select where to insert: 1-First, 2-Last, 3-Specific position: 2\n",
      "New node inserted.\n",
      "\n",
      "New list:\n",
      "33\n",
      "10\n",
      "20\n",
      "30\n",
      "40\n",
      "50\n",
      "44\n"
     ]
    }
   ],
   "source": [
    "start = insertSLL(start) "
   ]
  },
  {
   "cell_type": "code",
   "execution_count": 50,
   "metadata": {},
   "outputs": [
    {
     "name": "stdout",
     "output_type": "stream",
     "text": [
      "Enter data for node: 35\n",
      "Select where to insert: 1-First, 2-Last, 3-Specific position: 3\n",
      "Enter the specific position to insert new node: 5\n",
      "New node inserted.\n",
      "\n",
      "New list:\n",
      "33\n",
      "10\n",
      "20\n",
      "30\n",
      "35\n",
      "40\n",
      "50\n",
      "44\n"
     ]
    }
   ],
   "source": [
    "start = insertSLL(start) "
   ]
  },
  {
   "cell_type": "code",
   "execution_count": 51,
   "metadata": {},
   "outputs": [],
   "source": [
    "# DELETE the elment in SLL\n",
    "\n",
    "\n",
    "def delSLL(start):\n",
    "    choice = int(input('Select where to delete: 1-First, 2-Last, 3-Specific node: '))\n",
    "    if(choice == 1):\n",
    "        start = start.next\n",
    "    if(choice == 2 ):\n",
    "        t = start\n",
    "        while(t.next.next != None):\n",
    "            t = t.next\n",
    "        t.next = None\n",
    "    if(choice == 3):\n",
    "        pos = int(input('Enter the specific position to insert new node: '))\n",
    "        t = start\n",
    "        i=1\n",
    "        while(i<pos and t.next != None):\n",
    "            i+=1\n",
    "            p = t\n",
    "            t = t.next\n",
    "        p.next = t.next\n",
    "    print('Node deleted.\\n\\nNew list:')\n",
    "    \n",
    "    # Print SLL after insertion \n",
    "    t = start\n",
    "    while(t != None ):\n",
    "        print(t.val)\n",
    "        t = t.next   \n",
    "    return start"
   ]
  }
 ],
 "metadata": {
  "kernelspec": {
   "display_name": "Python 3",
   "language": "python",
   "name": "python3"
  },
  "language_info": {
   "codemirror_mode": {
    "name": "ipython",
    "version": 3
   },
   "file_extension": ".py",
   "mimetype": "text/x-python",
   "name": "python",
   "nbconvert_exporter": "python",
   "pygments_lexer": "ipython3",
   "version": "3.8.3"
  }
 },
 "nbformat": 4,
 "nbformat_minor": 4
}

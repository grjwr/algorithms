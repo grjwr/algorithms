{
 "cells": [
  {
   "attachments": {
    "perceptron.png": {
     "image/png": "[encoded data removed]"
    }
   },
   "cell_type": "markdown",
   "metadata": {},
   "source": [
    "# Single perceptron\n",
    "\n",
    "![perceptron.png](attachment:perceptron.png)\n",
    "\n",
    "Image source: www.analyticsvidhya.com"
   ]
  },
  {
   "cell_type": "code",
   "execution_count": 1,
   "metadata": {},
   "outputs": [],
   "source": [
    "import matplotlib.pyplot as plt\n",
    "import numpy as np"
   ]
  },
  {
   "cell_type": "code",
   "execution_count": 2,
   "metadata": {},
   "outputs": [],
   "source": [
    "sample_input  = np.array([[1,0,1,0],[1,0,1,1],[0,1,0,1]])\n",
    "sample_output = np.array([[1],[1],[0]])"
   ]
  },
  {
   "cell_type": "code",
   "execution_count": 4,
   "metadata": {},
   "outputs": [
    {
     "data": {
      "text/plain": [
       "(3, 4)"
      ]
     },
     "execution_count": 4,
     "metadata": {},
     "output_type": "execute_result"
    }
   ],
   "source": [
    "sample_input.shape"
   ]
  },
  {
   "cell_type": "code",
   "execution_count": 5,
   "metadata": {},
   "outputs": [
    {
     "data": {
      "text/plain": [
       "(3, 1)"
      ]
     },
     "execution_count": 5,
     "metadata": {},
     "output_type": "execute_result"
    }
   ],
   "source": [
    "sample_output.shape"
   ]
  },
  {
   "cell_type": "markdown",
   "metadata": {},
   "source": [
    "### Note: According to the simple working of above perceptron, the output will be summetion (let take S) of all inputs. Means if S>0 output  = 1 otherwise 0."
   ]
  },
  {
   "cell_type": "code",
   "execution_count": 6,
   "metadata": {},
   "outputs": [
    {
     "data": {
      "text/plain": [
       "7"
      ]
     },
     "execution_count": 6,
     "metadata": {},
     "output_type": "execute_result"
    }
   ],
   "source": [
    "S = np.sum(sample_input)\n",
    "S"
   ]
  },
  {
   "cell_type": "markdown",
   "metadata": {},
   "source": [
    "To do the matrix sum refer: https://numpy.org/doc/stable/reference/generated/numpy.matrix.sum.html"
   ]
  },
  {
   "cell_type": "code",
   "execution_count": 8,
   "metadata": {},
   "outputs": [
    {
     "data": {
      "text/plain": [
       "array([2, 3, 2])"
      ]
     },
     "execution_count": 8,
     "metadata": {},
     "output_type": "execute_result"
    }
   ],
   "source": [
    "S = sample_input.sum(axis=1)\n",
    "S"
   ]
  },
  {
   "cell_type": "code",
   "execution_count": 10,
   "metadata": {},
   "outputs": [
    {
     "data": {
      "text/plain": [
       "(3,)"
      ]
     },
     "execution_count": 10,
     "metadata": {},
     "output_type": "execute_result"
    }
   ],
   "source": [
    "S.shape"
   ]
  },
  {
   "cell_type": "code",
   "execution_count": 12,
   "metadata": {},
   "outputs": [
    {
     "data": {
      "text/plain": [
       "(3,)"
      ]
     },
     "execution_count": 12,
     "metadata": {},
     "output_type": "execute_result"
    }
   ],
   "source": [
    "#np.reshape(a, (2, 3))\n",
    "np.reshape(S,(3,1))\n",
    "S.shape"
   ]
  },
  {
   "cell_type": "code",
   "execution_count": 14,
   "metadata": {},
   "outputs": [],
   "source": [
    "def pred_output(x):\n",
    "    for i in range(3):\n",
    "        if x[i]>0:\n",
    "            S[i] = 1\n",
    "        else:\n",
    "            S[i] = 0\n",
    "    return S"
   ]
  },
  {
   "cell_type": "code",
   "execution_count": 15,
   "metadata": {},
   "outputs": [],
   "source": [
    "pred_output = pred_output(S)"
   ]
  },
  {
   "cell_type": "code",
   "execution_count": 16,
   "metadata": {},
   "outputs": [
    {
     "data": {
      "text/plain": [
       "array([1, 1, 1])"
      ]
     },
     "execution_count": 16,
     "metadata": {},
     "output_type": "execute_result"
    }
   ],
   "source": [
    "pred_output"
   ]
  },
  {
   "cell_type": "markdown",
   "metadata": {},
   "source": [
    "So, above concept of perceptron then implemented with weights, bias and activation function, which we called as Artificial Neural Network (ANN)."
   ]
  },
  {
   "attachments": {
    "First%20ANN.jpeg": {
     "image/jpeg": "[encoded data removed]"
    }
   },
   "cell_type": "markdown",
   "metadata": {},
   "source": [
    "# First ANN\n",
    "\n",
    "![First%20ANN.jpeg](attachment:First%20ANN.jpeg)\n",
    "\n",
    "Image source: towardsdatascience.com"
   ]
  },
  {
   "cell_type": "markdown",
   "metadata": {},
   "source": [
    "#### Forward Propagation"
   ]
  },
  {
   "cell_type": "code",
   "execution_count": 32,
   "metadata": {},
   "outputs": [
    {
     "data": {
      "text/plain": [
       "array([[0.43997868],\n",
       "       [0.22913357],\n",
       "       [0.60719125],\n",
       "       [0.79938344]])"
      ]
     },
     "execution_count": 32,
     "metadata": {},
     "output_type": "execute_result"
    }
   ],
   "source": [
    "# We have sample inputs and outputs now we need weights, bias value and activation function\n",
    "\n",
    "# Take Weights\n",
    "\n",
    "# Ref: https://numpy.org/doc/stable/reference/random/generated/numpy.random.rand.html?highlight=random\n",
    "\n",
    "weights = np.random.rand(4,1)\n",
    "weights"
   ]
  },
  {
   "cell_type": "code",
   "execution_count": 34,
   "metadata": {},
   "outputs": [
    {
     "data": {
      "text/plain": [
       "(4, 3)"
      ]
     },
     "execution_count": 34,
     "metadata": {},
     "output_type": "execute_result"
    }
   ],
   "source": [
    "sample_input.shape"
   ]
  },
  {
   "cell_type": "code",
   "execution_count": 35,
   "metadata": {},
   "outputs": [
    {
     "data": {
      "text/plain": [
       "(4, 1)"
      ]
     },
     "execution_count": 35,
     "metadata": {},
     "output_type": "execute_result"
    }
   ],
   "source": [
    "weights.shape"
   ]
  },
  {
   "cell_type": "code",
   "execution_count": 36,
   "metadata": {},
   "outputs": [
    {
     "data": {
      "text/plain": [
       "(3, 4)"
      ]
     },
     "execution_count": 36,
     "metadata": {},
     "output_type": "execute_result"
    }
   ],
   "source": [
    "# transforming inputs in the shape of weights\n",
    "sample_input = sample_input.T\n",
    "sample_input.shape"
   ]
  },
  {
   "cell_type": "code",
   "execution_count": 37,
   "metadata": {},
   "outputs": [
    {
     "name": "stdout",
     "output_type": "stream",
     "text": [
      "[[1 0 1 0]\n",
      " [1 0 1 1]\n",
      " [0 1 0 1]]\n",
      "[[0.43997868]\n",
      " [0.22913357]\n",
      " [0.60719125]\n",
      " [0.79938344]]\n"
     ]
    }
   ],
   "source": [
    "#have a look on values\n",
    "print(sample_input)\n",
    "print(weights)"
   ]
  },
  {
   "cell_type": "code",
   "execution_count": 38,
   "metadata": {},
   "outputs": [
    {
     "data": {
      "text/plain": [
       "array([[1.04716993],\n",
       "       [1.84655337],\n",
       "       [1.02851701]])"
      ]
     },
     "execution_count": 38,
     "metadata": {},
     "output_type": "execute_result"
    }
   ],
   "source": [
    "# Summetions i.e in y=mx+c preparing m*x\n",
    "summ = np.matrix.dot(sample_input,weights)\n",
    "summ"
   ]
  },
  {
   "cell_type": "code",
   "execution_count": 39,
   "metadata": {},
   "outputs": [],
   "source": [
    "# Activation function \n",
    "\n",
    "def sigmoid(x):\n",
    "    return 1/(1+np.exp(-x))"
   ]
  },
  {
   "cell_type": "code",
   "execution_count": 40,
   "metadata": {},
   "outputs": [
    {
     "data": {
      "text/plain": [
       "array([[0.74405834],\n",
       "       [0.86605897],\n",
       "       [0.74049002]])"
      ]
     },
     "execution_count": 40,
     "metadata": {},
     "output_type": "execute_result"
    }
   ],
   "source": [
    "# execution of activation function with summetion and bias value\n",
    "predicted_output = sigmoid(summ + 0.02)\n",
    "predicted_output"
   ]
  },
  {
   "cell_type": "markdown",
   "metadata": {},
   "source": [
    "#### Backward Propagation"
   ]
  },
  {
   "cell_type": "code",
   "execution_count": 41,
   "metadata": {},
   "outputs": [
    {
     "data": {
      "text/plain": [
       "array([[ 0.25594166],\n",
       "       [ 0.13394103],\n",
       "       [-0.74049002]])"
      ]
     },
     "execution_count": 41,
     "metadata": {},
     "output_type": "execute_result"
    }
   ],
   "source": [
    "# error\n",
    "error = sample_output-predicted_output\n",
    "error"
   ]
  },
  {
   "cell_type": "code",
   "execution_count": 42,
   "metadata": {},
   "outputs": [],
   "source": [
    "# first order derivative i.e. converting output of sigmoid function to its derivative\n",
    "def derivative(x):\n",
    "  return x * (1-x)"
   ]
  },
  {
   "cell_type": "code",
   "execution_count": 48,
   "metadata": {},
   "outputs": [],
   "source": [
    "# updation in weights or called as adjustments in weights or simply called as adjusted weights\n",
    "adjustment = error * derivative(error)\n",
    "weights = weights + np.dot(sample_input.T,adjustment)"
   ]
  },
  {
   "cell_type": "code",
   "execution_count": 49,
   "metadata": {},
   "outputs": [
    {
     "data": {
      "text/plain": [
       "array([[0.50425633],\n",
       "       [1.18348859],\n",
       "       [0.67146891],\n",
       "       [1.76927573]])"
      ]
     },
     "execution_count": 49,
     "metadata": {},
     "output_type": "execute_result"
    }
   ],
   "source": [
    "weights"
   ]
  },
  {
   "cell_type": "code",
   "execution_count": 53,
   "metadata": {},
   "outputs": [
    {
     "data": {
      "text/plain": [
       "array([[ 0.23223654],\n",
       "       [ 0.04903229],\n",
       "       [-0.95132843]])"
      ]
     },
     "execution_count": 53,
     "metadata": {},
     "output_type": "execute_result"
    }
   ],
   "source": [
    "# now move towards activation function and predict the output again then check the new error\n",
    "summ = np.dot(sample_input,weights)\n",
    "predicted_output = sigmoid(summ + 0.02)\n",
    "erorr = sample_output - predicted_output\n",
    "erorr"
   ]
  },
  {
   "cell_type": "code",
   "execution_count": 54,
   "metadata": {},
   "outputs": [
    {
     "data": {
      "text/plain": [
       "array([[0.76776346],\n",
       "       [0.95096771],\n",
       "       [0.95132843]])"
      ]
     },
     "execution_count": 54,
     "metadata": {},
     "output_type": "execute_result"
    }
   ],
   "source": [
    "predicted_output"
   ]
  },
  {
   "cell_type": "code",
   "execution_count": 56,
   "metadata": {},
   "outputs": [
    {
     "data": {
      "text/plain": [
       "array([[1.],\n",
       "       [1.],\n",
       "       [1.]])"
      ]
     },
     "execution_count": 56,
     "metadata": {},
     "output_type": "execute_result"
    }
   ],
   "source": [
    "np.round(predicted_output)"
   ]
  },
  {
   "cell_type": "code",
   "execution_count": 102,
   "metadata": {},
   "outputs": [
    {
     "data": {
      "text/plain": [
       "array([[1.],\n",
       "       [1.],\n",
       "       [1.]])"
      ]
     },
     "execution_count": 102,
     "metadata": {},
     "output_type": "execute_result"
    }
   ],
   "source": [
    "# Now lets repete the forward and back progation till we get desired out put i.e. 1,1,0\n",
    "\n",
    "sample_input  = np.array([[1,0,1],[1,1,1],[0,1,0]])\n",
    "sample_output = np.array([[1],[1],[0]])\n",
    "weights = np.random.rand(3,1)\n",
    "#sample_input = sample_input.T\n",
    "\n",
    "# Activation function \n",
    "def sigmoid(x):\n",
    "    return 1/(1+np.exp(-x))\n",
    "# first order derivative i.e. converting output of sigmoid function to its derivative\n",
    "def derivative(x):\n",
    "  return x * (1-x)\n",
    "\n",
    "for i in range(500):\n",
    "    summ = np.dot(sample_input,weights)\n",
    "    predicted_output = sigmoid(summ + 0.01)\n",
    "    erorr = sample_output - predicted_output\n",
    "    adjustment = error * derivative(error)\n",
    "    weights = weights + np.dot(sample_input.T,adjustment)\n",
    "predicted_output.round()"
   ]
  },
  {
   "cell_type": "markdown",
   "metadata": {},
   "source": [
    "Note: I was doing basic mistake...may be. So lets take the help of my another implemented code\n"
   ]
  },
  {
   "cell_type": "code",
   "execution_count": 97,
   "metadata": {},
   "outputs": [
    {
     "data": {
      "text/plain": [
       "array([[1.],\n",
       "       [1.],\n",
       "       [0.]])"
      ]
     },
     "execution_count": 97,
     "metadata": {},
     "output_type": "execute_result"
    }
   ],
   "source": [
    "input_samples = np.array([[1,0,1],[1,1,1],[0,1,0]])\n",
    "output_samples = np.array([[1],[1],[0]])\n",
    "weights = np.random.random((3,1))\n",
    "def activation(x):\n",
    "  return 1 / (1 + np.exp(-x))\n",
    "def derivative(x):\n",
    "  return x * (1-x)\n",
    "for i in range(500):\n",
    "  sum = np.dot(input_samples,weights)\n",
    "  predicted_output = activation(sum + 0.01)\n",
    "  error = output_samples - predicted_output\n",
    "  adjustments = error * derivative(predicted_output)  ### gradient descent\n",
    "  weights += np.dot(input_samples.T,adjustments)\n",
    "predicted_output.round()"
   ]
  },
  {
   "cell_type": "markdown",
   "metadata": {},
   "source": [
    "Now, lets find the mistake in above two implementation"
   ]
  },
  {
   "cell_type": "code",
   "execution_count": 100,
   "metadata": {},
   "outputs": [
    {
     "name": "stdout",
     "output_type": "stream",
     "text": [
      "[[0.33392007]\n",
      " [0.88060932]\n",
      " [0.50104898]]\n",
      "[[0.03232062]\n",
      " [0.66329649]\n",
      " [0.88861603]]\n"
     ]
    }
   ],
   "source": [
    "# First code\n",
    "'''\n",
    "sample_input  = np.array([[1,0,1],[1,1,1],[0,1,0]])\n",
    "sample_output = np.array([[1],[1],[0]])\n",
    "weights = np.random.rand(3,1)\n",
    "def sigmoid(x):\n",
    "    return 1/(1+np.exp(-x))\n",
    "def derivative(x):\n",
    "  return x * (1-x)\n",
    "for i in range(500):\n",
    "    summ = np.dot(sample_input,weights)\n",
    "    predicted_output = sigmoid(summ + 0.01)\n",
    "    erorr = sample_output - predicted_output\n",
    "    adjustment = error * derivative(error)\n",
    "    weights = weights + np.dot(sample_input.T,adjustment)\n",
    "predicted_output.round()\n",
    "'''\n",
    "\n",
    "# Second\n",
    "'''\n",
    "input_samples = np.array([[1,0,1],[1,1,1],[0,1,0]])\n",
    "output_samples = np.array([[1],[1],[0]])\n",
    "weights = np.random.random((3,1))\n",
    "def activation(x):\n",
    "  return 1 / (1 + np.exp(-x))\n",
    "def derivative(x):\n",
    "  return x * (1-x)\n",
    "for i in range(500):\n",
    "  sum = np.dot(input_samples,weights)\n",
    "  predicted_output = activation(sum + 0.01)\n",
    "  error = output_samples - predicted_output\n",
    "  adjustments = error * derivative(predicted_output)  ### gradient descent\n",
    "  weights += np.dot(input_samples.T,adjustments)\n",
    "predicted_output.round()\n",
    "'''\n",
    "\n",
    "# Lets write the diference quickly\n",
    "\n",
    "### Line 3: use of random function -> lets check the outputs of each then compare\n",
    "weights1 = np.random.rand(3,1)\n",
    "weights2 = np.random.random((3,1))\n",
    "print(weights1)\n",
    "print(weights2)"
   ]
  },
  {
   "cell_type": "markdown",
   "metadata": {},
   "source": [
    "The above code does not make any sense...may be. So, lets find out another diferrence"
   ]
  },
  {
   "cell_type": "code",
   "execution_count": 103,
   "metadata": {},
   "outputs": [
    {
     "name": "stdout",
     "output_type": "stream",
     "text": [
      "8.546299999999894 8.546299999999894\n"
     ]
    }
   ],
   "source": [
    "### Line 13: Only difference in first code simple update in variable is used and in secong code the shorthand is used\n",
    "### So lets take quick look via simple example\n",
    "\n",
    "x = 3.5463\n",
    "\n",
    "def check1(x):\n",
    "    for i in range(500):\n",
    "        x = x + 0.01\n",
    "    return x\n",
    "\n",
    "\n",
    "def check2(x):\n",
    "    for i in range(500):\n",
    "        x += 0.01\n",
    "    return x\n",
    "print(check1(x),check2(x))"
   ]
  },
  {
   "cell_type": "markdown",
   "metadata": {},
   "source": [
    "Nothing prooved with this example...it says no issue....so lets embedded into fisrt code then see what will happen"
   ]
  },
  {
   "cell_type": "code",
   "execution_count": 104,
   "metadata": {},
   "outputs": [
    {
     "data": {
      "text/plain": [
       "array([[1.],\n",
       "       [1.],\n",
       "       [1.]])"
      ]
     },
     "execution_count": 104,
     "metadata": {},
     "output_type": "execute_result"
    }
   ],
   "source": [
    "sample_input  = np.array([[1,0,1],[1,1,1],[0,1,0]])\n",
    "sample_output = np.array([[1],[1],[0]])\n",
    "weights = np.random.rand(3,1)\n",
    "#sample_input = sample_input.T\n",
    "\n",
    "# Activation function \n",
    "def sigmoid(x):\n",
    "    return 1/(1+np.exp(-x))\n",
    "# first order derivative i.e. converting output of sigmoid function to its derivative\n",
    "def derivative(x):\n",
    "  return x * (1-x)\n",
    "\n",
    "for i in range(500):\n",
    "    summ = np.dot(sample_input,weights)\n",
    "    predicted_output = sigmoid(summ + 0.01)\n",
    "    erorr = sample_output - predicted_output\n",
    "    adjustment = error * derivative(error)\n",
    "    weights += np.dot(sample_input.T,adjustment)\n",
    "predicted_output.round()"
   ]
  },
  {
   "cell_type": "markdown",
   "metadata": {},
   "source": [
    "Now lets correct the line 3 difference then see"
   ]
  },
  {
   "cell_type": "code",
   "execution_count": 105,
   "metadata": {},
   "outputs": [
    {
     "data": {
      "text/plain": [
       "array([[1.],\n",
       "       [1.],\n",
       "       [1.]])"
      ]
     },
     "execution_count": 105,
     "metadata": {},
     "output_type": "execute_result"
    }
   ],
   "source": [
    "sample_input  = np.array([[1,0,1],[1,1,1],[0,1,0]])\n",
    "sample_output = np.array([[1],[1],[0]])\n",
    "weights = np.random.random((3,1))\n",
    "#sample_input = sample_input.T\n",
    "\n",
    "# Activation function \n",
    "def sigmoid(x):\n",
    "    return 1/(1+np.exp(-x))\n",
    "# first order derivative i.e. converting output of sigmoid function to its derivative\n",
    "def derivative(x):\n",
    "  return x * (1-x)\n",
    "\n",
    "for i in range(500):\n",
    "    summ = np.dot(sample_input,weights)\n",
    "    predicted_output = sigmoid(summ + 0.01)\n",
    "    erorr = sample_output - predicted_output\n",
    "    adjustment = error * derivative(error)\n",
    "    weights = weights + np.dot(sample_input.T,adjustment)\n",
    "predicted_output.round()"
   ]
  },
  {
   "cell_type": "markdown",
   "metadata": {},
   "source": [
    "now lets correct both difference"
   ]
  },
  {
   "cell_type": "code",
   "execution_count": 106,
   "metadata": {},
   "outputs": [
    {
     "data": {
      "text/plain": [
       "array([[1.],\n",
       "       [1.],\n",
       "       [1.]])"
      ]
     },
     "execution_count": 106,
     "metadata": {},
     "output_type": "execute_result"
    }
   ],
   "source": [
    "sample_input  = np.array([[1,0,1],[1,1,1],[0,1,0]])\n",
    "sample_output = np.array([[1],[1],[0]])\n",
    "weights = np.random.random((3,1))\n",
    "#sample_input = sample_input.T\n",
    "\n",
    "# Activation function \n",
    "def sigmoid(x):\n",
    "    return 1/(1+np.exp(-x))\n",
    "# first order derivative i.e. converting output of sigmoid function to its derivative\n",
    "def derivative(x):\n",
    "  return x * (1-x)\n",
    "\n",
    "for i in range(500):\n",
    "    summ = np.dot(sample_input,weights)\n",
    "    predicted_output = sigmoid(summ + 0.01)\n",
    "    erorr = sample_output - predicted_output\n",
    "    adjustment = error * derivative(error)\n",
    "    weights  += np.dot(sample_input.T,adjustment)\n",
    "predicted_output.round()"
   ]
  },
  {
   "cell_type": "code",
   "execution_count": 107,
   "metadata": {},
   "outputs": [
    {
     "data": {
      "text/plain": [
       "array([[1.],\n",
       "       [1.],\n",
       "       [0.]])"
      ]
     },
     "execution_count": 107,
     "metadata": {},
     "output_type": "execute_result"
    }
   ],
   "source": [
    "# Finally got the error -> in adjustment i put error in place of predicted output\n",
    "\n",
    "### Final CODE\n",
    "sample_input  = np.array([[1,0,1],[1,1,1],[0,1,0]])\n",
    "sample_output = np.array([[1],[1],[0]])\n",
    "weights = np.random.random((3,1))\n",
    "#sample_input = sample_input.T\n",
    "\n",
    "# Activation function \n",
    "def sigmoid(x):\n",
    "    return 1/(1+np.exp(-x))\n",
    "# first order derivative i.e. converting output of sigmoid function to its derivative\n",
    "def derivative(x):\n",
    "  return x * (1-x)\n",
    "\n",
    "for i in range(500):\n",
    "    summ = np.dot(sample_input,weights)\n",
    "    predicted_output = sigmoid(summ + 0.01)\n",
    "    erorr = sample_output - predicted_output\n",
    "    adjustment = error * derivative(predicted_output)\n",
    "    weights  += np.dot(sample_input.T,adjustment)\n",
    "predicted_output.round()"
   ]
  }
 ],
 "metadata": {
  "kernelspec": {
   "display_name": "Python 3",
   "language": "python",
   "name": "python3"
  },
  "language_info": {
   "codemirror_mode": {
    "name": "ipython",
    "version": 3
   },
   "file_extension": ".py",
   "mimetype": "text/x-python",
   "name": "python",
   "nbconvert_exporter": "python",
   "pygments_lexer": "ipython3",
   "version": "3.8.3"
  }
 },
 "nbformat": 4,
 "nbformat_minor": 4
}

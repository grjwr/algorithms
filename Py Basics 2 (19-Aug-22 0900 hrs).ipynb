{
 "cells": [
  {
   "cell_type": "markdown",
   "id": "substantial-halifax",
   "metadata": {},
   "source": [
    "1. Strings\n",
    "2. Lists\n",
    "3. Functions\n",
    "4. Modules"
   ]
  },
  {
   "cell_type": "markdown",
   "id": "following-priest",
   "metadata": {},
   "source": [
    "### 1. Strings"
   ]
  },
  {
   "cell_type": "code",
   "execution_count": 23,
   "id": "curious-journal",
   "metadata": {},
   "outputs": [
    {
     "data": {
      "text/plain": [
       "True"
      ]
     },
     "execution_count": 23,
     "metadata": {},
     "output_type": "execute_result"
    }
   ],
   "source": [
    "# [Ref: https://docs.python.org/3/library/stdtypes.html#string-methods] \n",
    "# str.capitalize() Return a copy of the string with its first character capitalized and the rest lowercased.\n",
    "# str.casefold() Return a casefolded copy of the string. Casefolded strings may be used for caseless matching.\n",
    "# str.center(width[, fillchar]) Return centered in a string of length width.\n",
    "# str.count(sub[, start[, end]]) Return the number of non-overlapping occurrences of substring sub in the range [start, end]. \n",
    "# str.encode(encoding='utf-8', errors='strict') Return an encoded version of the string as a bytes object. \n",
    "# str.endswith(suffix[, start[, end]]) Return True if the string ends with the specified suffix, otherwise return False.\n",
    "# str.expandtabs(tabsize=8) Return a copy of the string where all tab characters are replaced by one or more spaces, depending on the current column and the given tab size. \n",
    "# str.find(sub[, start[, end]]) Return the lowest index in the string where substring sub is found within the slice s[start:end].\n",
    "\n",
    "# Note The find() method should be used only if you need to know the position of sub.To check if sub is a substring or not, use the in operator.\n",
    "'Py' in 'Python'"
   ]
  },
  {
   "cell_type": "code",
   "execution_count": 24,
   "id": "caroline-characterization",
   "metadata": {},
   "outputs": [
    {
     "name": "stdout",
     "output_type": "stream",
     "text": [
      "True False\n",
      "True True\n"
     ]
    }
   ],
   "source": [
    "# str.format(*args, **kwargs) Perform a string formatting operation. \n",
    "# str.format_map(mapping) Similar to str.format(**mapping), except that mapping is used directly and not copied to a dict. This is useful if for example mapping is a dict subclass.\n",
    "# str.index(sub[, start[, end]]) Like find(), but raise ValueError when the substring is not found.\n",
    "# str.isalnum() Return True if all characters in the string are alphanumeric and there is at least one character, False otherwise.\n",
    "# str.isalpha() Return True if all characters in the string are alphabetic and there is at least one character, False otherwise.\n",
    "# str.isascii() Return True if the string is empty or all characters in the string are ASCII, False otherwise. \n",
    "# str.isdecimal() Return True if all characters in the string are decimal characters and there is at least one character, False otherwise.\n",
    "# str.isdigit() Return True if all characters in the string are decimal characters and there is at least one character, False otherwise.\n",
    "# str.isidentifier() Return True if the string is a valid identifier according to the language definition, section Identifiers and keywords.\n",
    "\n",
    "from keyword import iskeyword\n",
    "print('hello'.isidentifier(), iskeyword('hello'))\n",
    "print('def'.isidentifier(), iskeyword('def'))"
   ]
  },
  {
   "cell_type": "code",
   "execution_count": 25,
   "id": "confident-married",
   "metadata": {},
   "outputs": [
    {
     "name": "stdout",
     "output_type": "stream",
     "text": [
      "True\n",
      "True\n"
     ]
    }
   ],
   "source": [
    "# str.islower() Return True if all cased characters in the string are lowercase and there is at least one cased character, False otherwise.\n",
    "# str.isnumeric() Return True if all characters in the string are numeric characters, and there is at least one character, False otherwise.\n",
    "# str.isprintable() Return True if all characters in the string are printable or the string is empty, False otherwise.\n",
    "# str.isspace() Return True if there are only whitespace characters in the string and there is at least one character, False otherwise.\n",
    "# str.istitle() Return True if the string is a titlecased string and there is at least one character, for example uppercase characters may only follow uncased characters and lowercase characters only cased ones. Return False otherwise.\n",
    "# str.isupper() Return True if all cased characters 4 in the string are uppercase and there is at least one cased character, False otherwise.\n",
    "\n",
    "print('BANANA'.isupper())\n",
    "print('banana'.islower())"
   ]
  },
  {
   "cell_type": "code",
   "execution_count": 27,
   "id": "opened-consumer",
   "metadata": {},
   "outputs": [
    {
     "name": "stdout",
     "output_type": "stream",
     "text": [
      "spacious   \n",
      "ee!\n",
      "three!\n"
     ]
    }
   ],
   "source": [
    "# str.lower() Return a copy of the string with all the cased characters converted to lowercase.\n",
    "# str.lstrip([chars]) Return a copy of the string with leading characters removed.\n",
    "\n",
    "print('   spacious   '.lstrip())\n",
    "print('Arthur: three!'.lstrip('Arthur: '))\n",
    "print('Arthur: three!'.removeprefix('Arthur: '))"
   ]
  },
  {
   "cell_type": "code",
   "execution_count": 29,
   "id": "iraqi-medicine",
   "metadata": {},
   "outputs": [
    {
     "name": "stdout",
     "output_type": "stream",
     "text": [
      "   spacious\n",
      "   spacious\n",
      "M\n",
      "Monty\n"
     ]
    }
   ],
   "source": [
    "# str.replace(old, new[, count]) Return a copy of the string with all occurrences of substring old replaced by new. \n",
    "# str.rfind(sub[, start[, end]]) Return the highest index in the string where substring sub is found, such that sub is contained within s[start:end]. \n",
    "# str.rindex(sub[, start[, end]]) Like rfind() but raises ValueError when the substring sub is not found.\n",
    "# str.rstrip([chars]) Return a copy of the string with trailing characters removed. The chars argument is a string specifying the set of characters to be removed.\n",
    "\n",
    "print('   spacious   '.rstrip())\n",
    "print('   spacious   '.rstrip())\n",
    "\n",
    "print('Monty Python'.rstrip(' Python'))\n",
    "print('Monty Python'.removesuffix(' Python'))"
   ]
  },
  {
   "cell_type": "code",
   "execution_count": 30,
   "id": "hired-trust",
   "metadata": {},
   "outputs": [
    {
     "data": {
      "text/plain": [
       "['1', '2', '3']"
      ]
     },
     "execution_count": 30,
     "metadata": {},
     "output_type": "execute_result"
    }
   ],
   "source": [
    "# str.split(sep=None, maxsplit=- 1)\n",
    "a = '1,2,3'\n",
    "a.split(',')"
   ]
  },
  {
   "cell_type": "markdown",
   "id": "catholic-growing",
   "metadata": {},
   "source": [
    "### 2. List [ ]"
   ]
  },
  {
   "cell_type": "code",
   "execution_count": 3,
   "id": "bearing-basin",
   "metadata": {},
   "outputs": [
    {
     "data": {
      "text/plain": [
       "['Hello', 3, 2.5]"
      ]
     },
     "execution_count": 3,
     "metadata": {},
     "output_type": "execute_result"
    }
   ],
   "source": [
    "x = ['Hello', 3, 2.5]\n",
    "x"
   ]
  },
  {
   "cell_type": "code",
   "execution_count": 4,
   "id": "stunning-apparatus",
   "metadata": {},
   "outputs": [
    {
     "data": {
      "text/plain": [
       "['Hello', 3, 2.5, 37]"
      ]
     },
     "execution_count": 4,
     "metadata": {},
     "output_type": "execute_result"
    }
   ],
   "source": [
    "# Operations on list are: \n",
    "#  append(x) Add an item to the end of the list.\n",
    "#  extend(iterable) Extend the list by appending all the items from the iterable.\n",
    "#  insert(i, x) Insert an item at a given position.\n",
    "#  remove(x) Remove the first item from the list whose value is equal to x.\n",
    "#  pop([i]) Remove the item at the given position in the list, and return it.\n",
    "#  index(x[, start[, end]]) Return zero-based index in the list of the first item whose value is equal to x.\n",
    "#  count(x) Return the number of times x appears in the list.\n",
    "#  sort(key=None, reverse=False) Sort the items of the list in place.\n",
    "#  reverse() Reverse the elements of the list in place.\n",
    "#  copy() Return a shallow copy of the list. \n",
    "#  clear() Remove all items from the list.\n",
    "x.append(37)\n",
    "x"
   ]
  },
  {
   "cell_type": "code",
   "execution_count": 5,
   "id": "religious-progressive",
   "metadata": {},
   "outputs": [
    {
     "data": {
      "text/plain": [
       "['Hello', 3, 2.5, 37, 'Hello', 3, 2.5, 37]"
      ]
     },
     "execution_count": 5,
     "metadata": {},
     "output_type": "execute_result"
    }
   ],
   "source": [
    "x.extend(x)\n",
    "x"
   ]
  },
  {
   "cell_type": "code",
   "execution_count": 6,
   "id": "differential-crack",
   "metadata": {},
   "outputs": [
    {
     "data": {
      "text/plain": [
       "['Hello', 3, 2.5, 37, 'Hello', 'Rajiv', 3, 2.5, 37]"
      ]
     },
     "execution_count": 6,
     "metadata": {},
     "output_type": "execute_result"
    }
   ],
   "source": [
    "x.insert(5, 'Rajiv')\n",
    "x"
   ]
  },
  {
   "cell_type": "code",
   "execution_count": 7,
   "id": "effective-daily",
   "metadata": {},
   "outputs": [
    {
     "data": {
      "text/plain": [
       "['Hello', 2.5, 37, 'Hello', 'Rajiv', 3, 2.5, 37]"
      ]
     },
     "execution_count": 7,
     "metadata": {},
     "output_type": "execute_result"
    }
   ],
   "source": [
    "x.remove(3)\n",
    "x"
   ]
  },
  {
   "cell_type": "code",
   "execution_count": 8,
   "id": "brutal-dictionary",
   "metadata": {},
   "outputs": [
    {
     "name": "stdout",
     "output_type": "stream",
     "text": [
      "3\n",
      "['Hello', 2.5, 37, 'Hello', 'Rajiv', 2.5, 37]\n"
     ]
    }
   ],
   "source": [
    "print(x.pop(5))\n",
    "print(x)"
   ]
  },
  {
   "cell_type": "code",
   "execution_count": 9,
   "id": "dietary-treaty",
   "metadata": {},
   "outputs": [
    {
     "data": {
      "text/plain": [
       "[1, 2, 3, 4, 6]"
      ]
     },
     "execution_count": 9,
     "metadata": {},
     "output_type": "execute_result"
    }
   ],
   "source": [
    "'''There is a way to remove an item from a list given its index instead of its value: the del statement. \n",
    "This differs from the pop() method which returns a value. \n",
    "The del statement can also be used to remove slices from a list or clear the entire list \n",
    "(which we did earlier by assignment of an empty list to the slice). '''\n",
    "\n",
    "#For example:\n",
    "\n",
    "x1 = [1,2,3,4,5,6]\n",
    "del x1[4] # 4 is index here i.e. at index 4 element 5 will be deleted.\n",
    "x1"
   ]
  },
  {
   "cell_type": "code",
   "execution_count": 10,
   "id": "domestic-scale",
   "metadata": {},
   "outputs": [
    {
     "name": "stdout",
     "output_type": "stream",
     "text": [
      "4\n"
     ]
    }
   ],
   "source": [
    "print(x.index('Rajiv'))"
   ]
  },
  {
   "cell_type": "code",
   "execution_count": 11,
   "id": "sorted-multimedia",
   "metadata": {},
   "outputs": [
    {
     "data": {
      "text/plain": [
       "2"
      ]
     },
     "execution_count": 11,
     "metadata": {},
     "output_type": "execute_result"
    }
   ],
   "source": [
    "x.count('Hello')"
   ]
  },
  {
   "cell_type": "code",
   "execution_count": 12,
   "id": "stunning-terrorism",
   "metadata": {},
   "outputs": [
    {
     "name": "stdout",
     "output_type": "stream",
     "text": [
      "[1, 2, 3, 4, 6]\n"
     ]
    },
    {
     "data": {
      "text/plain": [
       "[]"
      ]
     },
     "execution_count": 12,
     "metadata": {},
     "output_type": "execute_result"
    }
   ],
   "source": [
    "print(x1)\n",
    "x1.clear()\n",
    "x1"
   ]
  },
  {
   "cell_type": "code",
   "execution_count": 13,
   "id": "arctic-relative",
   "metadata": {},
   "outputs": [
    {
     "data": {
      "text/plain": [
       "[2, 9, 5, 3, 0, 2, 1]"
      ]
     },
     "execution_count": 13,
     "metadata": {},
     "output_type": "execute_result"
    }
   ],
   "source": [
    "# new list\n",
    "y=[2,9,5,3,0,2,1]\n",
    "y"
   ]
  },
  {
   "cell_type": "code",
   "execution_count": 14,
   "id": "herbal-pointer",
   "metadata": {},
   "outputs": [
    {
     "data": {
      "text/plain": [
       "[0, 1, 2, 2, 3, 5, 9]"
      ]
     },
     "execution_count": 14,
     "metadata": {},
     "output_type": "execute_result"
    }
   ],
   "source": [
    "y.sort()\n",
    "y"
   ]
  },
  {
   "cell_type": "code",
   "execution_count": 15,
   "id": "fundamental-reply",
   "metadata": {},
   "outputs": [
    {
     "data": {
      "text/plain": [
       "[9, 5, 3, 2, 2, 1, 0]"
      ]
     },
     "execution_count": 15,
     "metadata": {},
     "output_type": "execute_result"
    }
   ],
   "source": [
    "y.reverse()\n",
    "y"
   ]
  },
  {
   "cell_type": "code",
   "execution_count": 16,
   "id": "casual-beijing",
   "metadata": {},
   "outputs": [
    {
     "data": {
      "text/plain": [
       "[9, 5, 3, 2, 2, 1, 0]"
      ]
     },
     "execution_count": 16,
     "metadata": {},
     "output_type": "execute_result"
    }
   ],
   "source": [
    "z=[]\n",
    "z =y.copy()\n",
    "z"
   ]
  },
  {
   "cell_type": "code",
   "execution_count": 17,
   "id": "smoking-cuisine",
   "metadata": {},
   "outputs": [
    {
     "data": {
      "text/plain": [
       "[9, 5, 3, 2, 2, 1, 0]"
      ]
     },
     "execution_count": 17,
     "metadata": {},
     "output_type": "execute_result"
    }
   ],
   "source": [
    "# In above shallow copy will be done\n",
    "list1 = y[:]\n",
    "list1"
   ]
  },
  {
   "cell_type": "code",
   "execution_count": 18,
   "id": "assisted-marathon",
   "metadata": {},
   "outputs": [
    {
     "data": {
      "text/plain": [
       "[[75],\n",
       " [95, 64],\n",
       " [17, 47, 82],\n",
       " [18, 35, 87, 10],\n",
       " [20, 4, 82, 47, 65],\n",
       " [19, 1, 23, 75, 3, 34],\n",
       " [88, 2, 77, 73, 7, 63, 67],\n",
       " [99, 65, 4, 28, 6, 16, 70, 92],\n",
       " [41, 41, 26, 56, 83, 40, 80, 70, 33],\n",
       " [41, 48, 72, 33, 47, 32, 37, 16, 94, 29],\n",
       " [53, 71, 44, 65, 25, 43, 91, 52, 97, 51, 14],\n",
       " [70, 11, 33, 28, 77, 73, 17, 78, 39, 68, 17, 57],\n",
       " [91, 71, 52, 38, 17, 14, 91, 43, 58, 50, 27, 29, 48],\n",
       " [63, 66, 4, 68, 89, 53, 67, 30, 73, 16, 69, 87, 40, 31],\n",
       " [4, 62, 98, 27, 23, 9, 70, 98, 73, 93, 38, 53, 60, 4, 23]]"
      ]
     },
     "execution_count": 18,
     "metadata": {},
     "output_type": "execute_result"
    }
   ],
   "source": [
    "#Problem of shallow copy is explained below\n",
    "data = [[75], [95, 64], [17, 47, 82], [18, 35, 87, 10], [20, 4, 82, 47, 65], [19, 1, 23, 75, 3, 34], [88, 2, 77, 73, 7, 63, 67], [99, 65, 4, 28, 6, 16, 70, 92], [41, 41, 26, 56, 83, 40, 80, 70, 33], [41, 48, 72, 33, 47, 32, 37, 16, 94, 29], [53, 71, 44, 65, 25, 43, 91, 52, 97, 51, 14], [70, 11, 33, 28, 77, 73, 17, 78, 39, 68, 17, 57], [91, 71, 52, 38, 17, 14, 91, 43, 58, 50, 27, 29, 48], [63, 66, 4, 68, 89, 53, 67, 30, 73, 16, 69, 87, 40, 31], [4, 62, 98, 27, 23, 9, 70, 98, 73, 93, 38, 53, 60, 4, 23]]\n",
    "data"
   ]
  },
  {
   "cell_type": "code",
   "execution_count": 19,
   "id": "becoming-silly",
   "metadata": {},
   "outputs": [
    {
     "data": {
      "text/plain": [
       "[[75],\n",
       " [95, 64],\n",
       " [17, 47, 82],\n",
       " [18, 35, 87, 10],\n",
       " [20, 4, 82, 47, 65],\n",
       " [19, 1, 23, 75, 3, 34],\n",
       " [88, 2, 77, 73, 7, 63, 67],\n",
       " [99, 65, 4, 28, 6, 16, 70, 92],\n",
       " [41, 41, 26, 56, 83, 40, 80, 70, 33],\n",
       " [41, 48, 72, 33, 47, 32, 37, 16, 94, 29],\n",
       " [53, 71, 44, 65, 25, 43, 91, 52, 97, 51, 14],\n",
       " [70, 11, 33, 28, 77, 73, 17, 78, 39, 68, 17, 57],\n",
       " [91, 71, 52, 38, 17, 14, 91, 43, 58, 50, 27, 29, 48],\n",
       " [63, 66, 4, 68, 89, 53, 67, 30, 73, 16, 69, 87, 40, 31],\n",
       " [4, 62, 98, 27, 23, 9, 70, 98, 73, 93, 38, 53, 60, 4, 23]]"
      ]
     },
     "execution_count": 19,
     "metadata": {},
     "output_type": "execute_result"
    }
   ],
   "source": [
    "# creating a copy\n",
    "rev_data = data[:] \n",
    "rev_data"
   ]
  },
  {
   "cell_type": "markdown",
   "id": "retained-complexity",
   "metadata": {},
   "source": [
    "data[:] creates a shallow copy of the list data. Since this is a list of lists, and you also want to copy the inner lists, you need a deep copy instead"
   ]
  },
  {
   "cell_type": "code",
   "execution_count": 20,
   "id": "iraqi-aruba",
   "metadata": {},
   "outputs": [
    {
     "data": {
      "text/plain": [
       "[[75],\n",
       " [95, 64],\n",
       " [17, 47, 82],\n",
       " [18, 35, 87, 10],\n",
       " [20, 4, 82, 47, 65],\n",
       " [19, 1, 23, 75, 3, 34],\n",
       " [88, 2, 77, 73, 7, 63, 67],\n",
       " [99, 65, 4, 28, 6, 16, 70, 92],\n",
       " [41, 41, 26, 56, 83, 40, 80, 70, 33],\n",
       " [41, 48, 72, 33, 47, 32, 37, 16, 94, 29],\n",
       " [53, 71, 44, 65, 25, 43, 91, 52, 97, 51, 14],\n",
       " [70, 11, 33, 28, 77, 73, 17, 78, 39, 68, 17, 57],\n",
       " [91, 71, 52, 38, 17, 14, 91, 43, 58, 50, 27, 29, 48],\n",
       " [63, 66, 4, 68, 89, 53, 67, 30, 73, 16, 69, 87, 40, 31],\n",
       " [4, 62, 98, 27, 23, 9, 70, 98, 73, 93, 38, 53, 60, 4, 23]]"
      ]
     },
     "execution_count": 20,
     "metadata": {},
     "output_type": "execute_result"
    }
   ],
   "source": [
    "import copy\n",
    "rev_data = copy.deepcopy(data)\n",
    "rev_data"
   ]
  },
  {
   "cell_type": "code",
   "execution_count": 21,
   "id": "acting-diabetes",
   "metadata": {},
   "outputs": [
    {
     "data": {
      "text/plain": [
       "[[75],\n",
       " [95, 64],\n",
       " [17, 47, 82],\n",
       " [18, 35, 87, 10],\n",
       " [20, 4, 82, 47, 65],\n",
       " [19, 1, 23, 75, 3, 34],\n",
       " [88, 2, 77, 73, 7, 63, 67],\n",
       " [99, 65, 4, 28, 6, 16, 70, 92],\n",
       " [41, 41, 26, 56, 83, 40, 80, 70, 33],\n",
       " [41, 48, 72, 33, 47, 32, 37, 16, 94, 29],\n",
       " [53, 71, 44, 65, 25, 43, 91, 52, 97, 51, 14],\n",
       " [70, 11, 33, 28, 77, 73, 17, 78, 39, 68, 17, 57],\n",
       " [91, 71, 52, 38, 17, 14, 91, 43, 58, 50, 27, 29, 48],\n",
       " [63, 66, 4, 68, 89, 53, 67, 30, 73, 16, 69, 87, 40, 31],\n",
       " [4, 62, 98, 27, 23, 9, 70, 98, 73, 93, 38, 53, 60, 4, 23]]"
      ]
     },
     "execution_count": 21,
     "metadata": {},
     "output_type": "execute_result"
    }
   ],
   "source": [
    "# OR can be implemented like this\n",
    "rev_data = [x[:] for x in data]\n",
    "rev_data"
   ]
  },
  {
   "cell_type": "code",
   "execution_count": 22,
   "id": "prepared-transition",
   "metadata": {},
   "outputs": [
    {
     "name": "stdout",
     "output_type": "stream",
     "text": [
      "[9, 5, 3, 2, 2, 1, 0]\n"
     ]
    },
    {
     "data": {
      "text/plain": [
       "[9, 5, 3, 2, 2, 1, 0]"
      ]
     },
     "execution_count": 22,
     "metadata": {},
     "output_type": "execute_result"
    }
   ],
   "source": [
    "# The above task can be done like below\n",
    "print(z)\n",
    "list2 = z\n",
    "list2"
   ]
  },
  {
   "cell_type": "markdown",
   "id": "historic-algeria",
   "metadata": {},
   "source": [
    "### 3. Functions"
   ]
  },
  {
   "cell_type": "code",
   "execution_count": 31,
   "id": "after-pressing",
   "metadata": {},
   "outputs": [],
   "source": [
    "# Simpple example\n",
    "def doNothing():\n",
    "    pass\n",
    "doNothing()"
   ]
  },
  {
   "cell_type": "code",
   "execution_count": 32,
   "id": "configured-entry",
   "metadata": {},
   "outputs": [
    {
     "data": {
      "text/plain": [
       "1"
      ]
     },
     "execution_count": 32,
     "metadata": {},
     "output_type": "execute_result"
    }
   ],
   "source": [
    "# Return type\n",
    "def makeOne():\n",
    "    return 1\n",
    "x = makeOne()\n",
    "x"
   ]
  },
  {
   "cell_type": "code",
   "execution_count": 33,
   "id": "early-allen",
   "metadata": {},
   "outputs": [
    {
     "name": "stdout",
     "output_type": "stream",
     "text": [
      "5\n"
     ]
    }
   ],
   "source": [
    "# Argument passing\n",
    "five = 2\n",
    "def sum(a , b=3 ): # Here, a is REGULAR argument and b is DEFAULT argument\n",
    "    return a+b\n",
    "print(sum(five))"
   ]
  },
  {
   "cell_type": "code",
   "execution_count": 34,
   "id": "related-contamination",
   "metadata": {},
   "outputs": [
    {
     "name": "stdout",
     "output_type": "stream",
     "text": [
      "5\n",
      "5\n"
     ]
    }
   ],
   "source": [
    "# Local V/s Global variable\n",
    "\n",
    "# Global Variable example\n",
    "glVar = 5\n",
    "def myFunc():\n",
    "    print(glVar)\n",
    "myFunc()\n",
    "print(glVar)"
   ]
  },
  {
   "cell_type": "code",
   "execution_count": 36,
   "id": "patient-thesis",
   "metadata": {},
   "outputs": [
    {
     "name": "stdout",
     "output_type": "stream",
     "text": [
      "5\n"
     ]
    },
    {
     "ename": "NameError",
     "evalue": "name 'locVar' is not defined",
     "output_type": "error",
     "traceback": [
      "\u001b[1;31m---------------------------------------------------------------------------\u001b[0m",
      "\u001b[1;31mNameError\u001b[0m                                 Traceback (most recent call last)",
      "\u001b[1;32m<ipython-input-36-1ea2b9ec6356>\u001b[0m in \u001b[0;36m<module>\u001b[1;34m\u001b[0m\n\u001b[0;32m      5\u001b[0m     \u001b[0mprint\u001b[0m\u001b[1;33m(\u001b[0m\u001b[0mlocVar\u001b[0m\u001b[1;33m)\u001b[0m\u001b[1;33m\u001b[0m\u001b[1;33m\u001b[0m\u001b[0m\n\u001b[0;32m      6\u001b[0m \u001b[0mmyFunc\u001b[0m\u001b[1;33m(\u001b[0m\u001b[1;33m)\u001b[0m\u001b[1;33m\u001b[0m\u001b[1;33m\u001b[0m\u001b[0m\n\u001b[1;32m----> 7\u001b[1;33m \u001b[0mprint\u001b[0m\u001b[1;33m(\u001b[0m\u001b[0mlocVar\u001b[0m\u001b[1;33m)\u001b[0m \u001b[1;31m#error will occure here\u001b[0m\u001b[1;33m\u001b[0m\u001b[1;33m\u001b[0m\u001b[0m\n\u001b[0m",
      "\u001b[1;31mNameError\u001b[0m: name 'locVar' is not defined"
     ]
    }
   ],
   "source": [
    "# Local Variable example\n",
    "\n",
    "def myFunc():\n",
    "    locVar = 5\n",
    "    print(locVar)\n",
    "myFunc() \n",
    "print(locVar) #error will occure here"
   ]
  },
  {
   "cell_type": "markdown",
   "id": "postal-usage",
   "metadata": {},
   "source": [
    "### 4. Modules"
   ]
  },
  {
   "cell_type": "code",
   "execution_count": 48,
   "id": "greatest-moisture",
   "metadata": {},
   "outputs": [
    {
     "name": "stdout",
     "output_type": "stream",
     "text": [
      "Hello\n"
     ]
    }
   ],
   "source": [
    "# File 1: hello.py\n",
    "'''\n",
    "def sayHello():\n",
    "    print('Hello')\n",
    "'''\n",
    "# File 2: main1.py\n",
    "'''\n",
    "import hello\n",
    "hello.sayHello()\n",
    "'''\n",
    "\n",
    "%run main1.py"
   ]
  },
  {
   "cell_type": "code",
   "execution_count": 66,
   "id": "round-boxing",
   "metadata": {},
   "outputs": [
    {
     "name": "stdout",
     "output_type": "stream",
     "text": [
      "Hello\n"
     ]
    },
    {
     "ename": "TypeError",
     "evalue": "unsupported operand type(s) for +: 'NoneType' and 'str'",
     "output_type": "error",
     "traceback": [
      "\u001b[1;31m---------------------------------------------------------------------------\u001b[0m",
      "\u001b[1;31mTypeError\u001b[0m                                 Traceback (most recent call last)",
      "\u001b[1;32m~\\Learn Python by Rajiv\\main2.py\u001b[0m in \u001b[0;36m<module>\u001b[1;34m\u001b[0m\n\u001b[0;32m      1\u001b[0m \u001b[1;32mfrom\u001b[0m \u001b[0mworld\u001b[0m \u001b[1;32mimport\u001b[0m \u001b[1;33m*\u001b[0m\u001b[1;33m\u001b[0m\u001b[1;33m\u001b[0m\u001b[0m\n\u001b[0;32m      2\u001b[0m \u001b[1;33m\u001b[0m\u001b[0m\n\u001b[1;32m----> 3\u001b[1;33m \u001b[0msayHelloWorld\u001b[0m\u001b[1;33m(\u001b[0m\u001b[1;33m)\u001b[0m\u001b[1;33m\u001b[0m\u001b[1;33m\u001b[0m\u001b[0m\n\u001b[0m",
      "\u001b[1;32m~\\Learn Python by Rajiv\\world.py\u001b[0m in \u001b[0;36msayHelloWorld\u001b[1;34m()\u001b[0m\n\u001b[0;32m      2\u001b[0m \u001b[1;33m\u001b[0m\u001b[0m\n\u001b[0;32m      3\u001b[0m \u001b[0mhello\u001b[0m\u001b[1;33m.\u001b[0m\u001b[0msayHello\u001b[0m\u001b[1;33m(\u001b[0m\u001b[1;33m)\u001b[0m\u001b[1;33m\u001b[0m\u001b[1;33m\u001b[0m\u001b[0m\n\u001b[1;32m----> 4\u001b[1;33m \u001b[1;32mdef\u001b[0m \u001b[0msayHelloWorld\u001b[0m\u001b[1;33m(\u001b[0m\u001b[1;33m)\u001b[0m\u001b[1;33m:\u001b[0m\u001b[1;33m\u001b[0m\u001b[1;33m\u001b[0m\u001b[0m\n\u001b[0m\u001b[0;32m      5\u001b[0m     \u001b[0mprint\u001b[0m\u001b[1;33m(\u001b[0m\u001b[1;34m'world'\u001b[0m\u001b[1;33m)\u001b[0m\u001b[1;33m\u001b[0m\u001b[1;33m\u001b[0m\u001b[0m\n",
      "\u001b[1;31mTypeError\u001b[0m: unsupported operand type(s) for +: 'NoneType' and 'str'"
     ]
    }
   ],
   "source": [
    "# File 1: hello.py\n",
    "# File 2: world.py\n",
    "'''\n",
    "import hello\n",
    "\n",
    "hello.sayHello()\n",
    "def sayHelloWorld():\n",
    "    print('world')\n",
    "\n",
    "'''\n",
    "# File 3: main2.py\n",
    "'''\n",
    "from world import *\n",
    "sayHelloWorld()\n",
    "'''\n",
    "%run main2.py"
   ]
  }
 ],
 "metadata": {
  "kernelspec": {
   "display_name": "Python 3",
   "language": "python",
   "name": "python3"
  },
  "language_info": {
   "codemirror_mode": {
    "name": "ipython",
    "version": 3
   },
   "file_extension": ".py",
   "mimetype": "text/x-python",
   "name": "python",
   "nbconvert_exporter": "python",
   "pygments_lexer": "ipython3",
   "version": "3.9.1"
  }
 },
 "nbformat": 4,
 "nbformat_minor": 5
}

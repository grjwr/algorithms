{
  "nbformat": 4,
  "nbformat_minor": 0,
  "metadata": {
    "colab": {
      "name": "DAA 22 & 23 -JUNE 5A3 & 5A2.ipynb",
      "provenance": [],
      "authorship_tag": "ABX9TyN/k8xCKPao//j1JvxJ/BL7",
      "include_colab_link": true
    },
    "kernelspec": {
      "name": "python3",
      "display_name": "Python 3"
    },
    "language_info": {
      "name": "python"
    }
  },
  "cells": [
    {
      "cell_type": "markdown",
      "metadata": {
        "id": "view-in-github",
        "colab_type": "text"
      },
      "source": [
        "<a href=\"https://colab.research.google.com/github/grjwr/algorithms/blob/master/DAA_22_%26_23_JUNE_5A3_%26_5A2.ipynb\" target=\"_parent\"><img src=\"https://colab.research.google.com/assets/colab-badge.svg\" alt=\"Open In Colab\"/></a>"
      ]
    },
    {
      "cell_type": "markdown",
      "metadata": {
        "id": "Caw-d022U_tp"
      },
      "source": [
        "## Practical 1: \t\n",
        "###Implementation and Time analysis of Bubble, Selection and insertion sorting algorithms for best case, average case & worst case."
      ]
    },
    {
      "cell_type": "code",
      "metadata": {
        "id": "LlWqapyjIwuY"
      },
      "source": [
        "arrN = []\n",
        "for i in range(3,11):\n",
        "  arrN.append(2**i)\n",
        "# 1,2,4,8,16,...2^13"
      ],
      "execution_count": null,
      "outputs": []
    },
    {
      "cell_type": "code",
      "metadata": {
        "id": "RwlcEFRmzy5p"
      },
      "source": [
        "def bb(arr):\n",
        "  for i in range(0,len(arr)):\n",
        "    for j in range(0,i):\n",
        "      if arr[i] > arr[j]:\n",
        "        t = arr[i]\n",
        "        arr[i] = arr[j]\n",
        "        arr[j] = t\n",
        "  return time.clock()\n",
        "\n",
        "def sel(arr):\n",
        "  for i in range(0,len(arr)):\n",
        "    for j in range(i+1,len(arr)):\n",
        "      if arr[i] > arr[j]:\n",
        "        t = arr[i]\n",
        "        arr[i] = arr[j]\n",
        "        arr[j] = t\n",
        "  return time.clock()\n",
        "\n",
        "def insertionSort(arr):\n",
        "  for i in range(1,len(arr)):\n",
        "    key = arr[i]\n",
        "    j = i-1\n",
        "    while j >= 0 and key < arr[j]:\n",
        "      arr[j + 1] = arr[j]\n",
        "      j -= 1\n",
        "    arr[j + 1] = key\n",
        "  return time.clock()"
      ],
      "execution_count": null,
      "outputs": []
    },
    {
      "cell_type": "code",
      "metadata": {
        "id": "-qgTrrMK0kSA"
      },
      "source": [
        "def worst(arrN):\n",
        "  bswt = []\n",
        "  sswt = []\n",
        "  iswt = []\n",
        "  arr = []\n",
        "  for i in arrN:\n",
        "    for j in range(i,0,-1):\n",
        "      arr.append(j)\n",
        "    bswt.append(bb(arr))\n",
        "    sswt.append(sel(arr))\n",
        "    iswt.append(insertionSort(arr))\n",
        "  return bswt,sswt,iswt\n",
        "# after first for loop arr[1] for first element of arrN i.e 1\n",
        "# after first for loop arr[2,1] for 2nd element of arrN i.e 2\n",
        "# after first for loop arr[4,3,2,1] for 3rd element of arrN i.e 4\n",
        "\n",
        "def best(arrN):\n",
        "  bsbt = []\n",
        "  ssbt =[]\n",
        "  isbt =[]\n",
        "  arr = []\n",
        "  for i in arrN:\n",
        "    for j in range(0,i):\n",
        "      arr.append(j)\n",
        "    bsbt.append(bb(arr))\n",
        "    ssbt.append(bb(arr))\n",
        "    isbt.append(insertionSort(arr))\n",
        "  return bsbt,ssbt,isbt\n",
        "\n",
        "def avg(arrN):\n",
        "  bsat = []\n",
        "  ssat =[]\n",
        "  isat =[]\n",
        "  arr = []\n",
        "  for i in arrN:\n",
        "    for j in range(0,i):\n",
        "      arr.append(randrange(10000))\n",
        "    bsat.append(bb(arr))\n",
        "    ssat.append(bb(arr))\n",
        "    isat.append(insertionSort(arr))\n",
        "  return bsat,ssat,isat"
      ],
      "execution_count": null,
      "outputs": []
    },
    {
      "cell_type": "code",
      "metadata": {
        "colab": {
          "base_uri": "https://localhost:8080/",
          "height": 373
        },
        "id": "bJrFOFlM2aaT",
        "outputId": "c1e56a26-957d-408e-b488-dd6e6e4f7d8e"
      },
      "source": [
        "import time\n",
        "import matplotlib.pyplot as plt\n",
        "from random import randrange\n",
        "bswt,sswt,iswt = worst(arrN)\n",
        "bsat,ssat,isat = avg(arrN)\n",
        "bsbt,ssbt,isbt = best(arrN)\n",
        "\n",
        "plt.plot(arrN,bswt)\n",
        "plt.plot(arrN,bsat)\n",
        "plt.plot(arrN,bsbt)\n",
        "plt.plot(arrN,sswt)\n",
        "plt.plot(arrN,ssat)\n",
        "plt.plot(arrN,ssbt)\n",
        "plt.plot(arrN,iswt)\n",
        "plt.plot(arrN,isat)\n",
        "plt.plot(arrN,isbt)"
      ],
      "execution_count": null,
      "outputs": [
        {
          "output_type": "stream",
          "text": [
            "/usr/local/lib/python3.7/dist-packages/ipykernel_launcher.py:8: DeprecationWarning: time.clock has been deprecated in Python 3.3 and will be removed from Python 3.8: use time.perf_counter or time.process_time instead\n",
            "  \n",
            "/usr/local/lib/python3.7/dist-packages/ipykernel_launcher.py:17: DeprecationWarning: time.clock has been deprecated in Python 3.3 and will be removed from Python 3.8: use time.perf_counter or time.process_time instead\n",
            "/usr/local/lib/python3.7/dist-packages/ipykernel_launcher.py:27: DeprecationWarning: time.clock has been deprecated in Python 3.3 and will be removed from Python 3.8: use time.perf_counter or time.process_time instead\n"
          ],
          "name": "stderr"
        },
        {
          "output_type": "execute_result",
          "data": {
            "text/plain": [
              "[<matplotlib.lines.Line2D at 0x7f236d6fe190>]"
            ]
          },
          "metadata": {
            "tags": []
          },
          "execution_count": 30
        },
        {
          "output_type": "display_data",
          "data": {
            "image/png": "[encoded data removed]",
            "text/plain": [
              "<Figure size 432x288 with 1 Axes>"
            ]
          },
          "metadata": {
            "tags": [],
            "needs_background": "light"
          }
        }
      ]
    },
    {
      "cell_type": "markdown",
      "metadata": {
        "id": "nUUDpMCOVZY9"
      },
      "source": [
        "## Practical 2: \t\n",
        "### \tImplementation and Time analysis of Max-Heap sort algorithm."
      ]
    },
    {
      "cell_type": "markdown",
      "metadata": {
        "id": "uZZ6me5FVfrq"
      },
      "source": [
        "#### - Max-Heap has running time complexity of O(nLog(n))\n",
        "#### - In Max-Heap running time complexity of max_heapify takes O(Log(n))"
      ]
    },
    {
      "cell_type": "code",
      "metadata": {
        "id": "aAhlODHaVY9u"
      },
      "source": [
        "# Hepify algorithm\n",
        "\n",
        "def max_heapify(A, heap_size, i):\n",
        "    left = 2 * i + 1\n",
        "    right = 2 * i + 2\n",
        "    largest = i\n",
        "    if left < heap_size and A[left] > A[largest]:\n",
        "        largest = left\n",
        "    if right < heap_size and A[right] > A[largest]:\n",
        "        largest = right\n",
        "    if largest != i:\n",
        "        A[i], A[largest] = A[largest], A[i]\n",
        "        max_heapify(A, heap_size, largest)"
      ],
      "execution_count": null,
      "outputs": []
    },
    {
      "cell_type": "code",
      "metadata": {
        "id": "EetkU2hwWY09"
      },
      "source": [
        "# Build Heap\n",
        "\n",
        "def build_heap(A):\n",
        "    heap_size = len(A)\n",
        "    n = heap_size/2\n",
        "    for i in range (int(n),-1,-1):\n",
        "        max_heapify(A,heap_size, i)"
      ],
      "execution_count": null,
      "outputs": []
    },
    {
      "cell_type": "code",
      "metadata": {
        "id": "rchiJ4rtYWqH"
      },
      "source": [
        "# Heap sort algorithm\n",
        "# Here A is array\n",
        "def heapsort(A):\n",
        "    heap_size = len(A)\n",
        "    build_heap(A)\n",
        "    #print A #uncomment this print to see the heap it builds\n",
        "    for i in range(heap_size-1,0,-1):\n",
        "        A[0], A[i] = A[i], A[0]\n",
        "        heap_size -= 1\n",
        "        max_heapify(A, heap_size, 0)\n",
        "    return time.clock()"
      ],
      "execution_count": null,
      "outputs": []
    },
    {
      "cell_type": "code",
      "metadata": {
        "id": "9gvNou7lYjUP"
      },
      "source": [
        "def worst(arrN):\n",
        "  hswt = []\n",
        "  arr = []\n",
        "  for i in arrN:\n",
        "    for j in range(i,0,-1):\n",
        "      arr.append(j)\n",
        "    hswt.append(heapsort(arr))\n",
        "  return hswt"
      ],
      "execution_count": null,
      "outputs": []
    },
    {
      "cell_type": "code",
      "metadata": {
        "colab": {
          "base_uri": "https://localhost:8080/",
          "height": 346
        },
        "id": "DpTFnqpbY9vJ",
        "outputId": "f958d57f-9cd8-4f03-b089-819ed6af70eb"
      },
      "source": [
        "import time\n",
        "import matplotlib.pyplot as plt\n",
        "from random import randrange\n",
        "hswt = worst(arrN)\n",
        "\n",
        "\n",
        "plt.plot(arrN,hswt)\n",
        "#plt.plot(arrN,bsat)\n",
        "#plt.plot(arrN,bsbt)\n"
      ],
      "execution_count": null,
      "outputs": [
        {
          "output_type": "stream",
          "text": [
            "/usr/local/lib/python3.7/dist-packages/ipykernel_launcher.py:11: DeprecationWarning: time.clock has been deprecated in Python 3.3 and will be removed from Python 3.8: use time.perf_counter or time.process_time instead\n",
            "  # This is added back by InteractiveShellApp.init_path()\n"
          ],
          "name": "stderr"
        },
        {
          "output_type": "execute_result",
          "data": {
            "text/plain": [
              "[<matplotlib.lines.Line2D at 0x7f236d59ded0>]"
            ]
          },
          "metadata": {
            "tags": []
          },
          "execution_count": 52
        },
        {
          "output_type": "display_data",
          "data": {
            "image/png": "[encoded data removed]",
            "text/plain": [
              "<Figure size 432x288 with 1 Axes>"
            ]
          },
          "metadata": {
            "tags": [],
            "needs_background": "light"
          }
        }
      ]
    }
  ]
}